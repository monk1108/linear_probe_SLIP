{
  "cells": [
    {
      "cell_type": "markdown",
      "metadata": {
        "colab_type": "text",
        "id": "Yw2FkC4vvY0t"
      },
      "source": [
        "# Downloading data from Kaggle"
      ]
    },
    {
      "cell_type": "markdown",
      "metadata": {
        "colab_type": "text",
        "id": "BAdzKVmKVA_g"
      },
      "source": [
        "# Visualizing data"
      ]
    },
    {
      "cell_type": "code",
      "execution_count": 2,
      "metadata": {
        "colab": {
          "base_uri": "https://localhost:8080/",
          "height": 105
        },
        "colab_type": "code",
        "id": "-wdxPZILyQY9",
        "outputId": "745341e7-f409-4188-ba46-0c32c47ceed4"
      },
      "outputs": [
        {
          "name": "stdout",
          "output_type": "stream",
          "text": [
            "Requirement already satisfied: pydicom in /home/cihangxie/.conda/envs/yinuo/lib/python3.8/site-packages (2.3.0)\n"
          ]
        }
      ],
      "source": [
        "! pip install pydicom"
      ]
    },
    {
      "cell_type": "code",
      "execution_count": 3,
      "metadata": {
        "colab": {},
        "colab_type": "code",
        "id": "Ctl762hrVGon"
      },
      "outputs": [],
      "source": [
        "import pydicom\n",
        "import pandas as pd"
      ]
    },
    {
      "cell_type": "code",
      "execution_count": 4,
      "metadata": {
        "colab": {
          "base_uri": "https://localhost:8080/",
          "height": 141
        },
        "colab_type": "code",
        "id": "CXM14zChVc08",
        "outputId": "b20ed89d-6940-4a67-ef04-a658d6aea92f"
      },
      "outputs": [
        {
          "name": "stdout",
          "output_type": "stream",
          "text": [
            "patientId    0004cfab-14fd-4e49-80ba-63a80b6bddd6\n",
            "x                                             NaN\n",
            "y                                             NaN\n",
            "width                                         NaN\n",
            "height                                        NaN\n",
            "Target                                          0\n",
            "Name: 0, dtype: object\n"
          ]
        }
      ],
      "source": [
        "temp_dir = '/data2/yinuo/rsna/stage_2_train_images/'\n",
        "df = pd.read_csv('/data2/yinuo/rsna/stage_2_train_labels.csv')\n",
        "print(df.iloc[0])"
      ]
    },
    {
      "cell_type": "code",
      "execution_count": 5,
      "metadata": {
        "colab": {
          "base_uri": "https://localhost:8080/",
          "height": 405
        },
        "colab_type": "code",
        "id": "2c0jPBuKVdAT",
        "outputId": "3dc75891-a3a9-4b64-b450-f5b3e11aadd8"
      },
      "outputs": [
        {
          "data": {
            "text/plain": [
              "array([[<AxesSubplot:title={'center':'x'}>,\n",
              "        <AxesSubplot:title={'center':'y'}>],\n",
              "       [<AxesSubplot:title={'center':'width'}>,\n",
              "        <AxesSubplot:title={'center':'height'}>],\n",
              "       [<AxesSubplot:title={'center':'Target'}>, <AxesSubplot:>]],\n",
              "      dtype=object)"
            ]
          },
          "execution_count": 5,
          "metadata": {},
          "output_type": "execute_result"
        },
        {
          "data": {
            "image/png": "[encoded data removed]",
            "text/plain": [
              "<Figure size 432x288 with 6 Axes>"
            ]
          },
          "metadata": {
            "needs_background": "light"
          },
          "output_type": "display_data"
        }
      ],
      "source": [
        "df.hist()"
      ]
    },
    {
      "cell_type": "code",
      "execution_count": 6,
      "metadata": {
        "colab": {
          "base_uri": "https://localhost:8080/",
          "height": 638
        },
        "colab_type": "code",
        "id": "p0nThayYVc-U",
        "outputId": "970f1a83-58e9-4da4-bb5e-4434dd872481"
      },
      "outputs": [
        {
          "name": "stdout",
          "output_type": "stream",
          "text": [
            "Dataset.file_meta -------------------------------\n",
            "(0002, 0000) File Meta Information Group Length  UL: 202\n",
            "(0002, 0001) File Meta Information Version       OB: b'\\x00\\x01'\n",
            "(0002, 0002) Media Storage SOP Class UID         UI: Secondary Capture Image Storage\n",
            "(0002, 0003) Media Storage SOP Instance UID      UI: 1.2.276.0.7230010.3.1.4.8323329.28530.1517874485.775526\n",
            "(0002, 0010) Transfer Syntax UID                 UI: JPEG Baseline (Process 1)\n",
            "(0002, 0012) Implementation Class UID            UI: 1.2.276.0.7230010.3.0.3.6.0\n",
            "(0002, 0013) Implementation Version Name         SH: 'OFFIS_DCMTK_360'\n",
            "-------------------------------------------------\n",
            "(0008, 0005) Specific Character Set              CS: 'ISO_IR 100'\n",
            "(0008, 0016) SOP Class UID                       UI: Secondary Capture Image Storage\n",
            "(0008, 0018) SOP Instance UID                    UI: 1.2.276.0.7230010.3.1.4.8323329.28530.1517874485.775526\n",
            "(0008, 0020) Study Date                          DA: '19010101'\n",
            "(0008, 0030) Study Time                          TM: '000000.00'\n",
            "(0008, 0050) Accession Number                    SH: ''\n",
            "(0008, 0060) Modality                            CS: 'CR'\n",
            "(0008, 0064) Conversion Type                     CS: 'WSD'\n",
            "(0008, 0090) Referring Physician's Name          PN: ''\n",
            "(0008, 103e) Series Description                  LO: 'view: PA'\n",
            "(0010, 0010) Patient's Name                      PN: '0004cfab-14fd-4e49-80ba-63a80b6bddd6'\n",
            "(0010, 0020) Patient ID                          LO: '0004cfab-14fd-4e49-80ba-63a80b6bddd6'\n",
            "(0010, 0030) Patient's Birth Date                DA: ''\n",
            "(0010, 0040) Patient's Sex                       CS: 'F'\n",
            "(0010, 1010) Patient's Age                       AS: '51'\n",
            "(0018, 0015) Body Part Examined                  CS: 'CHEST'\n",
            "(0018, 5101) View Position                       CS: 'PA'\n",
            "(0020, 000d) Study Instance UID                  UI: 1.2.276.0.7230010.3.1.2.8323329.28530.1517874485.775525\n",
            "(0020, 000e) Series Instance UID                 UI: 1.2.276.0.7230010.3.1.3.8323329.28530.1517874485.775524\n",
            "(0020, 0010) Study ID                            SH: ''\n",
            "(0020, 0011) Series Number                       IS: '1'\n",
            "(0020, 0013) Instance Number                     IS: '1'\n",
            "(0020, 0020) Patient Orientation                 CS: ''\n",
            "(0028, 0002) Samples per Pixel                   US: 1\n",
            "(0028, 0004) Photometric Interpretation          CS: 'MONOCHROME2'\n",
            "(0028, 0010) Rows                                US: 1024\n",
            "(0028, 0011) Columns                             US: 1024\n",
            "(0028, 0030) Pixel Spacing                       DS: [0.14300000000000002, 0.14300000000000002]\n",
            "(0028, 0100) Bits Allocated                      US: 8\n",
            "(0028, 0101) Bits Stored                         US: 8\n",
            "(0028, 0102) High Bit                            US: 7\n",
            "(0028, 0103) Pixel Representation                US: 0\n",
            "(0028, 2110) Lossy Image Compression             CS: '01'\n",
            "(0028, 2114) Lossy Image Compression Method      CS: 'ISO_10918_1'\n",
            "(7fe0, 0010) Pixel Data                          OB: Array of 142006 elements\n"
          ]
        }
      ],
      "source": [
        "patientId = df['patientId'][0]\n",
        "dcm_file = temp_dir + '%s.dcm' % patientId\n",
        "dcm_data = pydicom.read_file(dcm_file)\n",
        "\n",
        "print(dcm_data)"
      ]
    },
    {
      "cell_type": "code",
      "execution_count": 7,
      "metadata": {
        "colab": {
          "base_uri": "https://localhost:8080/",
          "height": 286
        },
        "colab_type": "code",
        "id": "WI_QPcUYVc7N",
        "outputId": "b2426260-c19d-4ee7-d54a-0b4d6f5c3fd0"
      },
      "outputs": [
        {
          "data": {
            "text/plain": [
              "<matplotlib.image.AxesImage at 0x7f9660a18160>"
            ]
          },
          "execution_count": 7,
          "metadata": {},
          "output_type": "execute_result"
        },
        {
          "data": {
            "image/png": "[encoded data removed]",
            "text/plain": [
              "<Figure size 432x288 with 1 Axes>"
            ]
          },
          "metadata": {
            "needs_background": "light"
          },
          "output_type": "display_data"
        }
      ],
      "source": [
        "import matplotlib.pyplot as plt\n",
        "\n",
        "im = dcm_data.pixel_array\n",
        "plt.imshow(im, cmap=plt.cm.gist_gray)"
      ]
    },
    {
      "cell_type": "code",
      "execution_count": 8,
      "metadata": {
        "colab": {},
        "colab_type": "code",
        "id": "25ISemNWVc4w"
      },
      "outputs": [],
      "source": [
        "def parse_data(df, parent_dir):\n",
        "    \"\"\"\n",
        "    Method to read a CSV file (Pandas dataframe) and parse the \n",
        "    data into the following nested dictionary:\n",
        "\n",
        "      parsed = {\n",
        "        \n",
        "        'patientId-00': {\n",
        "            'dicom': path/to/dicom/file,\n",
        "            'label': either 0 or 1 for normal or pnuemonia, \n",
        "            'boxes': list of box(es)\n",
        "        },\n",
        "        'patientId-01': {\n",
        "            'dicom': path/to/dicom/file,\n",
        "            'label': either 0 or 1 for normal or pnuemonia, \n",
        "            'boxes': list of box(es)\n",
        "        }, ...\n",
        "\n",
        "      }\n",
        "\n",
        "    \"\"\"\n",
        "    # --- Define lambda to extract coords in list [y, x, height, width]\n",
        "    extract_box = lambda row: [row['y'], row['x'], row['height'], row['width']]\n",
        "\n",
        "    parsed = {}\n",
        "    for n, row in df.iterrows():\n",
        "        # --- Initialize patient entry into parsed \n",
        "        pid = row['patientId']\n",
        "        if pid not in parsed:\n",
        "            parsed[pid] = {\n",
        "                'dicom': parent_dir + '%s.dcm' % pid,\n",
        "                'label': row['Target'],\n",
        "                'boxes': []}\n",
        "\n",
        "        # --- Add box if opacity is present\n",
        "        if parsed[pid]['label'] == 1:\n",
        "            parsed[pid]['boxes'].append(extract_box(row))\n",
        "\n",
        "    return parsed"
      ]
    },
    {
      "cell_type": "code",
      "execution_count": 9,
      "metadata": {
        "colab": {
          "base_uri": "https://localhost:8080/",
          "height": 54
        },
        "colab_type": "code",
        "id": "tcggiWOqVcyI",
        "outputId": "5cf92626-4796-415a-eacb-c7060389fab3"
      },
      "outputs": [
        {
          "name": "stdout",
          "output_type": "stream",
          "text": [
            "{'dicom': '/data2/yinuo/rsna/stage_2_train_images/00436515-870c-4b36-a041-de91049b9ab4.dcm', 'label': 1, 'boxes': [[152.0, 264.0, 379.0, 213.0], [152.0, 562.0, 453.0, 256.0]]}\n"
          ]
        }
      ],
      "source": [
        "parsed = parse_data(df, temp_dir)\n",
        "print(parsed['00436515-870c-4b36-a041-de91049b9ab4'])\n"
      ]
    },
    {
      "cell_type": "code",
      "execution_count": 10,
      "metadata": {
        "colab": {},
        "colab_type": "code",
        "id": "rsvGjNdVWWHZ"
      },
      "outputs": [],
      "source": [
        "def draw(data):\n",
        "    \"\"\"\n",
        "    Method to draw single patient with bounding box(es) if present \n",
        "\n",
        "    \"\"\"\n",
        "    # --- Open DICOM file\n",
        "    d = pydicom.read_file(data['dicom'])\n",
        "    im = d.pixel_array\n",
        "\n",
        "    # --- Convert from single-channel grayscale to 3-channel RGB\n",
        "    im = np.stack([im] * 3, axis=2)\n",
        "\n",
        "    # --- Add boxes with random color if present\n",
        "    for box in data['boxes']:\n",
        "        rgb = np.floor(np.random.rand(3) * 256).astype('int')\n",
        "        im = overlay_box(im=im, box=box, rgb=rgb, stroke=6)\n",
        "\n",
        "    plt.imshow(im, cmap=plt.cm.gist_gray)\n",
        "    \n",
        "\n",
        "def overlay_box(im, box, rgb, stroke=1):\n",
        "    \"\"\"\n",
        "    Method to overlay single box on image\n",
        "\n",
        "    \"\"\"\n",
        "    # --- Convert coordinates to integers\n",
        "    box = [int(b) for b in box]\n",
        "    \n",
        "    # --- Extract coordinates\n",
        "    y1, x1, height, width = box\n",
        "    y2 = y1 + height\n",
        "    x2 = x1 + width\n",
        "\n",
        "    im[y1:y1 + stroke, x1:x2] = rgb\n",
        "    im[y2:y2 + stroke, x1:x2] = rgb\n",
        "    im[y1:y2, x1:x1 + stroke] = rgb\n",
        "    im[y1:y2, x2:x2 + stroke] = rgb\n",
        "\n",
        "    return im"
      ]
    },
    {
      "cell_type": "code",
      "execution_count": 11,
      "metadata": {
        "colab": {
          "base_uri": "https://localhost:8080/",
          "height": 268
        },
        "colab_type": "code",
        "id": "a-NSIl1iWWE5",
        "outputId": "834731db-cf11-4eb1-872d-a4967d5cde2c"
      },
      "outputs": [
        {
          "ename": "NameError",
          "evalue": "name 'np' is not defined",
          "output_type": "error",
          "traceback": [
            "\u001b[0;31m---------------------------------------------------------------------------\u001b[0m",
            "\u001b[0;31mNameError\u001b[0m                                 Traceback (most recent call last)",
            "\u001b[1;32m/home/yinuoyao/ucsc/SLIP/RSNA-Pneumonia-Classification/rsna_pneumonia_classification.ipynb Cell 12\u001b[0m in \u001b[0;36m<cell line: 2>\u001b[0;34m()\u001b[0m\n\u001b[1;32m      <a href='vscode-notebook-cell://ssh-remote%2B169.233.1.28/home/yinuoyao/ucsc/SLIP/RSNA-Pneumonia-Classification/rsna_pneumonia_classification.ipynb#ch0000011vscode-remote?line=0'>1</a>\u001b[0m \u001b[39m#defected\u001b[39;00m\n\u001b[0;32m----> <a href='vscode-notebook-cell://ssh-remote%2B169.233.1.28/home/yinuoyao/ucsc/SLIP/RSNA-Pneumonia-Classification/rsna_pneumonia_classification.ipynb#ch0000011vscode-remote?line=1'>2</a>\u001b[0m draw(parsed[\u001b[39m'\u001b[39;49m\u001b[39m00436515-870c-4b36-a041-de91049b9ab4\u001b[39;49m\u001b[39m'\u001b[39;49m])\n",
            "\u001b[1;32m/home/yinuoyao/ucsc/SLIP/RSNA-Pneumonia-Classification/rsna_pneumonia_classification.ipynb Cell 12\u001b[0m in \u001b[0;36mdraw\u001b[0;34m(data)\u001b[0m\n\u001b[1;32m      <a href='vscode-notebook-cell://ssh-remote%2B169.233.1.28/home/yinuoyao/ucsc/SLIP/RSNA-Pneumonia-Classification/rsna_pneumonia_classification.ipynb#ch0000011vscode-remote?line=7'>8</a>\u001b[0m im \u001b[39m=\u001b[39m d\u001b[39m.\u001b[39mpixel_array\n\u001b[1;32m     <a href='vscode-notebook-cell://ssh-remote%2B169.233.1.28/home/yinuoyao/ucsc/SLIP/RSNA-Pneumonia-Classification/rsna_pneumonia_classification.ipynb#ch0000011vscode-remote?line=9'>10</a>\u001b[0m \u001b[39m# --- Convert from single-channel grayscale to 3-channel RGB\u001b[39;00m\n\u001b[0;32m---> <a href='vscode-notebook-cell://ssh-remote%2B169.233.1.28/home/yinuoyao/ucsc/SLIP/RSNA-Pneumonia-Classification/rsna_pneumonia_classification.ipynb#ch0000011vscode-remote?line=10'>11</a>\u001b[0m im \u001b[39m=\u001b[39m np\u001b[39m.\u001b[39mstack([im] \u001b[39m*\u001b[39m \u001b[39m3\u001b[39m, axis\u001b[39m=\u001b[39m\u001b[39m2\u001b[39m)\n\u001b[1;32m     <a href='vscode-notebook-cell://ssh-remote%2B169.233.1.28/home/yinuoyao/ucsc/SLIP/RSNA-Pneumonia-Classification/rsna_pneumonia_classification.ipynb#ch0000011vscode-remote?line=12'>13</a>\u001b[0m \u001b[39m# --- Add boxes with random color if present\u001b[39;00m\n\u001b[1;32m     <a href='vscode-notebook-cell://ssh-remote%2B169.233.1.28/home/yinuoyao/ucsc/SLIP/RSNA-Pneumonia-Classification/rsna_pneumonia_classification.ipynb#ch0000011vscode-remote?line=13'>14</a>\u001b[0m \u001b[39mfor\u001b[39;00m box \u001b[39min\u001b[39;00m data[\u001b[39m'\u001b[39m\u001b[39mboxes\u001b[39m\u001b[39m'\u001b[39m]:\n",
            "\u001b[0;31mNameError\u001b[0m: name 'np' is not defined"
          ]
        }
      ],
      "source": [
        "#defected\n",
        "draw(parsed['00436515-870c-4b36-a041-de91049b9ab4'])"
      ]
    },
    {
      "cell_type": "code",
      "execution_count": null,
      "metadata": {
        "colab": {
          "base_uri": "https://localhost:8080/",
          "height": 268
        },
        "colab_type": "code",
        "id": "J08t3dLdWWBv",
        "outputId": "188080b7-478e-432b-94fe-c394a1fe670a"
      },
      "outputs": [
        {
          "data": {
            "image/png": "[encoded data removed]",
            "text/plain": [
              "<Figure size 432x288 with 1 Axes>"
            ]
          },
          "metadata": {
            "needs_background": "light",
            "tags": []
          },
          "output_type": "display_data"
        }
      ],
      "source": [
        "#healthy\n",
        "draw(parsed['0004cfab-14fd-4e49-80ba-63a80b6bddd6'])"
      ]
    },
    {
      "cell_type": "markdown",
      "metadata": {
        "colab_type": "text",
        "id": "Gpj_c__JwNzM"
      },
      "source": [
        "# Validating data and labels match "
      ]
    },
    {
      "cell_type": "code",
      "execution_count": 13,
      "metadata": {
        "colab": {},
        "colab_type": "code",
        "id": "HGrRixmgwd5E"
      },
      "outputs": [],
      "source": [
        "import os\n",
        "import pandas as pd\n",
        "import numpy as np\n",
        "import matplotlib.pyplot as plt\n",
        "import cv2\n",
        "import shutil\n",
        "import glob"
      ]
    },
    {
      "cell_type": "code",
      "execution_count": 14,
      "metadata": {
        "colab": {
          "base_uri": "https://localhost:8080/",
          "height": 34
        },
        "colab_type": "code",
        "id": "RA8Lc2lxv-8K",
        "outputId": "9b9fe726-ad3c-4dee-ab1a-ede7d2d9a0ed"
      },
      "outputs": [
        {
          "data": {
            "text/plain": [
              "26684"
            ]
          },
          "execution_count": 14,
          "metadata": {},
          "output_type": "execute_result"
        }
      ],
      "source": [
        "filesNum = next(os.walk('/data2/yinuo/rsna/stage_2_train_images/'))[2]\n",
        "len(filesNum)"
      ]
    },
    {
      "cell_type": "code",
      "execution_count": 15,
      "metadata": {
        "colab": {
          "base_uri": "https://localhost:8080/",
          "height": 34
        },
        "colab_type": "code",
        "id": "1oxjNOWTwX3i",
        "outputId": "cb3487ff-ef60-4a71-f85b-76c175c68e8d"
      },
      "outputs": [
        {
          "data": {
            "text/plain": [
              "30227"
            ]
          },
          "execution_count": 15,
          "metadata": {},
          "output_type": "execute_result"
        }
      ],
      "source": [
        "df = pd.read_csv('/data2/yinuo/rsna/stage_2_train_labels.csv')\n",
        "len(df)"
      ]
    },
    {
      "cell_type": "markdown",
      "metadata": {
        "colab_type": "text",
        "id": "1dgakCbFwpY1"
      },
      "source": [
        "# Removing duplicates and sorting by patientId"
      ]
    },
    {
      "cell_type": "code",
      "execution_count": 16,
      "metadata": {
        "colab": {
          "base_uri": "https://localhost:8080/",
          "height": 1000
        },
        "colab_type": "code",
        "id": "m-qoQmBnkLL1",
        "outputId": "a26e22fe-63f7-4a96-a675-e674328169db"
      },
      "outputs": [
        {
          "data": {
            "text/plain": [
              "['0004cfab-14fd-4e49-80ba-63a80b6bddd6.dcm',\n",
              " '000924cf-0f8d-42bd-9158-1af53881a557.dcm',\n",
              " '000db696-cf54-4385-b10b-6b16fbb3f985.dcm',\n",
              " '000fe35a-2649-43d4-b027-e67796d412e0.dcm',\n",
              " '001031d9-f904-4a23-b3e5-2c088acd19c6.dcm',\n",
              " '0010f549-b242-4e94-87a8-57d79de215fc.dcm',\n",
              " '001916b8-3d30-4935-a5d1-8eaddb1646cd.dcm',\n",
              " '0022073f-cec8-42ec-ab5f-bc2314649235.dcm',\n",
              " '0022995a-45eb-4cfa-9a59-cd15f5196c64.dcm',\n",
              " '0025d2de-bd78-4d36-9f72-e15a5e22ca82.dcm',\n",
              " '00293de0-a530-41dc-9621-0b3def01d06d.dcm',\n",
              " '002c591d-df62-4e34-8eda-838c664430a9.dcm',\n",
              " '002cb550-2e31-42f1-a29d-fbc279977e71.dcm',\n",
              " '00313ee0-9eaa-42f4-b0ab-c148ed3241cd.dcm',\n",
              " '00322d4d-1c29-4943-afc9-b6754be640eb.dcm',\n",
              " '003d8fa0-6bf1-40ed-b54c-ac657f8495c5.dcm',\n",
              " '00436515-870c-4b36-a041-de91049b9ab4.dcm',\n",
              " '0049f7b2-229b-4a46-91a3-0e321a3ca80a.dcm',\n",
              " '0053ee32-1e03-4dc2-a103-f46ad0448787.dcm',\n",
              " '00569f44-917d-4c86-a842-81832af98c30.dcm',\n",
              " '005f5517-ab76-4b0d-8a26-f808d97171c4.dcm',\n",
              " '0067d70b-0e6d-41ff-a9b8-8edf6d5e25e4.dcm',\n",
              " '006cec2e-6ce2-4549-bffa-eadfcd1e9970.dcm',\n",
              " '006e75c8-1fd9-4a5a-99e7-285addebed55.dcm',\n",
              " '00704310-78a8-4b38-8475-49f4573b2dbb.dcm',\n",
              " '0087bd3a-55a7-4045-b111-b018fa52d361.dcm',\n",
              " '0088be53-27f2-4c30-882b-a73a3a5c8c71.dcm',\n",
              " '008b69b2-446a-43dd-9ba2-9ccff8f3da41.dcm',\n",
              " '008c19e8-a820-403a-930a-bc74a4053664.dcm',\n",
              " '0092d9c5-26b6-4e66-b196-49b2224ab8d1.dcm',\n",
              " '009482dc-3db5-48d4-8580-5c89c4f01334.dcm',\n",
              " '009eb222-eabc-4150-8121-d5a6d06b8ebf.dcm',\n",
              " '00a05408-8291-4231-886e-13763e103161.dcm',\n",
              " '00a85be6-6eb0-421d-8acf-ff2dc0007e8a.dcm',\n",
              " '00aecb01-a116-45a2-956c-08d2fa55433f.dcm',\n",
              " '00c0b293-48e7-4e16-ac76-9269ba535a62.dcm',\n",
              " '00d7c36e-3cdf-4df6-ac03-6c30cdc8e85b.dcm',\n",
              " '00dd08bb-b7ea-4617-801e-02b3051c3475.dcm',\n",
              " '00ddefb9-d94e-4e86-b945-970be30483d7.dcm',\n",
              " '00ec0d87-8e2a-44bd-b79c-4b91cfabcacf.dcm',\n",
              " '00eeb3c9-a892-4fac-a67a-aaa6cc7ffd5c.dcm',\n",
              " '00f08de1-517e-4652-a04f-d1dc9ee48593.dcm',\n",
              " '00f2de16-a231-40c3-9a5f-8198f530a4b0.dcm',\n",
              " '00f87de5-5fe0-4921-93ea-914d7e683266.dcm',\n",
              " '00fcc4f0-d7b5-4473-99a9-aa7d3ca071c9.dcm',\n",
              " '0100515c-5204-4f31-98e0-f35e4b00004a.dcm',\n",
              " '0101174b-6643-4d4e-b4ba-b6d41d0ce46a.dcm',\n",
              " '01027bc3-dc40-4165-a6c3-d6be2cb7ca34.dcm',\n",
              " '0103fadb-1663-40a6-8a9e-09d626cd2091.dcm',\n",
              " '010ccb9f-6d46-4380-af11-84f87397a1b8.dcm',\n",
              " '0111d61a-8a5d-4dc8-8c00-7365f8a8de3d.dcm',\n",
              " '011d6f51-b732-4d45-a84d-90477325ef2d.dcm',\n",
              " '0124882b-de2f-4023-985f-debb74aa6ebb.dcm',\n",
              " '012a5620-d082-4bb8-9b3b-e72d8938000c.dcm',\n",
              " '0135d3e6-15d6-4491-a263-0bac7b7c2b47.dcm',\n",
              " '013c7df0-d66d-4cb1-b3bc-a70085160311.dcm',\n",
              " '01469010-0fab-4a07-86c6-962996ce2ca0.dcm',\n",
              " '014b7b58-f641-4477-8bbc-ae6f337745d6.dcm',\n",
              " '014c6a19-38e2-4e7f-8f14-dd4f0a4582e4.dcm',\n",
              " '01538c3b-3de9-4fbb-95a8-732235821bbf.dcm',\n",
              " '016b050d-bf68-4a32-8d3e-421338819519.dcm',\n",
              " '016b1f90-bb9a-4d3a-9c38-74af5fffd5b5.dcm',\n",
              " '016fd98f-09a8-4b99-a8df-c3c26992f22e.dcm',\n",
              " '0174c4bb-28f5-41e3-a13f-a396badc18bd.dcm',\n",
              " '017c7b5b-618e-4bc9-943c-04c6a988d992.dcm',\n",
              " '018951e6-9fb3-4e92-8ce7-e3a018daf93f.dcm',\n",
              " '019ca122-9cdf-4704-b7a9-449c8a1c263e.dcm',\n",
              " '019d950b-dd38-4cf3-a686-527a75728be6.dcm',\n",
              " '019e035e-2f82-4c66-a198-57422a27925f.dcm',\n",
              " '01a4059c-22f7-4f51-8a27-50aff0b3aeb3.dcm',\n",
              " '01a5594f-e5d4-4f7a-b79d-3f57559fe37b.dcm',\n",
              " '01a6eaa6-222f-4ea8-9874-bbd89dc1a1ce.dcm',\n",
              " '01a7353d-25bb-4ff8-916b-f50dd541dccf.dcm',\n",
              " '01aad2a6-3b93-45e3-bf37-2d73348cb6fc.dcm',\n",
              " '01adfd2f-7bc7-4cef-ab68-a0992752b620.dcm',\n",
              " '01b15f07-1149-4ff8-9756-bc821e41b97c.dcm',\n",
              " '01b56434-4dd9-4994-bcc5-0b70a36e415a.dcm',\n",
              " '01b9e362-4950-40f5-88fa-7557ac2a45bb.dcm',\n",
              " '01be392f-a46d-4aef-a57e-9cd1a80dd47e.dcm',\n",
              " '01be3fe5-4a91-4c57-9af6-305966a7d0aa.dcm',\n",
              " '01c09fb1-a917-46ee-8d94-44f844a4eb85.dcm',\n",
              " '01c0b605-0a82-401b-9649-81252304ac45.dcm',\n",
              " '01c7cc7c-7004-441f-9049-77b7b444dd6b.dcm',\n",
              " '01cad8d0-45cd-4603-b099-94055d322310.dcm',\n",
              " '01cc7c75-4498-43ab-b650-5553d0507f76.dcm',\n",
              " '01cd2ba5-2baf-44b2-bf15-ee57e1ea4599.dcm',\n",
              " '01cfa23b-cc98-43af-a61b-56915f90b7ef.dcm',\n",
              " '01d1f0be-5216-4af5-b2dc-a160c1c56122.dcm',\n",
              " '01d4fa0f-97a0-4522-b0d8-134400db2a3e.dcm',\n",
              " '01d72346-4459-4eaa-8a19-d3c92121d17f.dcm',\n",
              " '01dc817c-3cfa-49fe-8662-518edc30652a.dcm',\n",
              " '01e16ddb-682d-4901-b56d-8686c4f9f976.dcm',\n",
              " '01e4fd43-4f2c-421f-bd68-c756dceb5742.dcm',\n",
              " '01e800d4-4d8d-4ef5-a40a-f37b923bb7ad.dcm',\n",
              " '01ee3bcb-d6a8-4586-b0a5-9647969da07d.dcm',\n",
              " '01ef1712-90a6-4946-ad86-fc76b0cf2d3b.dcm',\n",
              " '01ef449e-d493-4db2-9162-d83c69f90f40.dcm',\n",
              " '01f0d9cc-f69e-471a-987a-be73a36e18cc.dcm',\n",
              " '01f0f4bf-e678-430e-b43d-2968e2c4976c.dcm',\n",
              " '01f11e57-5c11-4ab0-9312-d88c3826721c.dcm',\n",
              " '01f3abc2-33c7-4ea2-a599-dc49b76fcfae.dcm',\n",
              " '01f4cd36-caa1-480f-9d8c-92e80cf7b197.dcm',\n",
              " '01f6bf01-9887-498c-ab11-1d10c6a22221.dcm',\n",
              " '01fa0f5e-00c3-41cb-b5c7-10600c8633ae.dcm',\n",
              " '01fdfd88-7607-48b9-ba05-a36e8b6fd19b.dcm',\n",
              " '01fe92f7-ff87-4f9e-9077-e00e670d1b47.dcm',\n",
              " '02002619-3dea-4038-8d4d-458db30ed8de.dcm',\n",
              " '020380f8-5c5a-4ded-bdf3-9ce3036945b4.dcm',\n",
              " '02051597-8a40-4586-88e1-8e62e421981f.dcm',\n",
              " '02099738-7465-4786-b71c-de8cdac477c3.dcm',\n",
              " '020a16e3-baf9-4cf0-859c-c79b5253d717.dcm',\n",
              " '020f45a7-14f8-4ed6-9639-3969d1a87b8c.dcm',\n",
              " '020fb648-3b1e-404a-a0b4-f25d6b277c1a.dcm',\n",
              " '021082a9-a734-42a8-bbe2-233e19a59103.dcm',\n",
              " '021443b8-0e56-4ce2-87e2-53302d8441ca.dcm',\n",
              " '0216bae7-3ab6-4857-8cc1-3afe8dab3964.dcm',\n",
              " '02242633-faa0-4927-81de-b2b44940068a.dcm',\n",
              " '02285fa4-35b7-4af6-b88f-3cac45a7f5c8.dcm',\n",
              " '022b7bbd-963b-49ea-afd7-b6b7986da555.dcm',\n",
              " '0232c2b8-f7ac-4f42-84be-510ccb7cf351.dcm',\n",
              " '02336c62-4e72-4818-8198-c327096a71e0.dcm',\n",
              " '023558cc-fcca-4fc2-9749-175e2727d49d.dcm',\n",
              " '02363fdb-4cd0-4631-b3d8-7a10fddffa28.dcm',\n",
              " '02475a31-ed48-4ff3-b401-5d74694bff8d.dcm',\n",
              " '024cff3e-86d2-4658-b204-79b94b74b94f.dcm',\n",
              " '0257438d-8365-4000-935e-3de03114734e.dcm',\n",
              " '02589621-9494-4801-99a8-a4e89c1b525d.dcm',\n",
              " '025b6ef8-0fd0-4900-8519-52dc9181f3f1.dcm',\n",
              " '025d196b-cfa4-44a5-9e31-0f73dc3b318f.dcm',\n",
              " '0266f96e-df45-4d2c-b445-bc96485b8f12.dcm',\n",
              " '02743848-e50a-4faf-a3f4-a6215613a23d.dcm',\n",
              " '0280a39c-4891-4a7b-8073-710c3f5577a3.dcm',\n",
              " '029216c8-ea0d-47bb-88fd-bf611cc5d1fc.dcm',\n",
              " '0294b4aa-5614-4b33-80a4-2c31b639e5b3.dcm',\n",
              " '0295573e-1bbe-4f14-83c2-32449fa79f10.dcm',\n",
              " '0297e501-88b5-4ec0-a2fd-50a7c70b42eb.dcm',\n",
              " '029a7647-5a1b-45fd-bae0-35e4fa49f785.dcm',\n",
              " '02a07cce-e68d-4096-a6d9-dbb93ce2cdf1.dcm',\n",
              " '02b20ea4-9c01-48b2-b3b3-5dae20e80095.dcm',\n",
              " '02b7b018-0fed-44c2-a9c2-93b2b3952efc.dcm',\n",
              " '02bc87cb-6660-4faa-97e4-4de01cb640a4.dcm',\n",
              " '02c2331d-b3fa-4d55-bf86-f0efbd589c86.dcm',\n",
              " '02c34d5b-16e9-412e-a385-ccd8cbceae16.dcm',\n",
              " '02c7fec6-46d9-480a-9ccc-edccfbbb44ab.dcm',\n",
              " '02cfa7d1-61e0-4d9e-8664-9a7469ccab76.dcm',\n",
              " '02de2d68-b7f9-428b-ac12-0cb8f56a0145.dcm',\n",
              " '02de832c-0929-4d8e-a333-6fd53367c63e.dcm',\n",
              " '02e141b9-8bc0-45df-be3a-5508768412c6.dcm',\n",
              " '02e4191e-fb03-4581-914c-f0438a17e53e.dcm',\n",
              " '02e68787-7eae-4b26-9d01-c5782b825fdc.dcm',\n",
              " '02e93c9a-c063-4bf2-9fa1-cb26692d58f8.dcm',\n",
              " '02ea47e2-e51d-4d4c-a2a2-41af99a91254.dcm',\n",
              " '02ea6b76-4189-47c5-a8bf-70590f84ebd8.dcm',\n",
              " '02f1ea1a-375f-4d1a-bac5-dd7a4b41fdbc.dcm',\n",
              " '02f6ab3b-7793-4d67-87e3-868911a399b7.dcm',\n",
              " '0300267e-bb80-4c68-b57c-d58338d303a0.dcm',\n",
              " '03050a9c-53cb-45a0-9595-933a7f9e90ad.dcm',\n",
              " '0318e440-ca1b-435b-a04f-fceee5ef279b.dcm',\n",
              " '031d627f-e6af-4588-8cca-6be8aa1222c7.dcm',\n",
              " '0324368b-3c2f-464a-8b1a-f72113718c38.dcm',\n",
              " '03249840-0a17-448c-bf41-7e156428ab59.dcm',\n",
              " '0353021e-7391-4aa5-80ca-d57a51123304.dcm',\n",
              " '035789b1-3736-405d-9910-f8f23c62ae9f.dcm',\n",
              " '0361ea80-0215-4bbe-9bca-908ea7c4f8b6.dcm',\n",
              " '036244ed-39bf-473d-97b1-2646ef0e9712.dcm',\n",
              " '03682e3c-d601-4e35-9ba5-06e85bba5c7c.dcm',\n",
              " '036a1ed9-6ce8-4a5c-80aa-4790abe94dfc.dcm',\n",
              " '03774732-81ca-4da0-a35c-ec222c14a4c9.dcm',\n",
              " '037e120a-24fa-4f9c-8813-111136e3c288.dcm',\n",
              " '037e59c2-5753-4daa-b74f-856694b81729.dcm',\n",
              " '0385fdea-9b37-4039-b10c-d3094f6afdfa.dcm',\n",
              " '03946779-dbc9-41fe-9cd5-1bcce2662123.dcm',\n",
              " '03946ed8-d581-4403-b052-753820035d6d.dcm',\n",
              " '03a3a168-1758-4a21-8766-fd73d9c15358.dcm',\n",
              " '03a512bc-1162-404e-8c71-dc9e0dc7258f.dcm',\n",
              " '03a9498c-549d-4e7d-800b-e74797f7f625.dcm',\n",
              " '03a9b990-18bb-4370-ac03-7fa385ea72bf.dcm',\n",
              " '03ab53d0-0a93-43f7-bfb7-4fc5b4db75dc.dcm',\n",
              " '03ae75b6-45a7-4a68-9871-f07b82b17bf6.dcm',\n",
              " '03aeb73d-0520-48ad-b21a-8249dfcf95d8.dcm',\n",
              " '03b10fa5-e7c3-4726-818f-ecbace9da737.dcm',\n",
              " '03c149d1-e420-40bf-8d60-f98d0fff1d48.dcm',\n",
              " '03c6601a-9044-447d-8521-eca222ea1c1e.dcm',\n",
              " '03cd7a5b-d5d7-40a1-81b1-c4264920530a.dcm',\n",
              " '03cf39fd-692c-46db-80d2-f1efb09b0e31.dcm',\n",
              " '03cf6091-89c8-4ea2-a3d5-7ce26cc422cb.dcm',\n",
              " '03cf9ba9-dfbe-47b9-aa96-3e69432d73c3.dcm',\n",
              " '03d00867-fe6d-47b5-9a14-3f03f736e69a.dcm',\n",
              " '03d5bd1e-47f5-43cd-a94a-6ed6e456646f.dcm',\n",
              " '03d92597-3e33-4fdf-8db5-a27cf5b8d3eb.dcm',\n",
              " '03da08b4-9f24-4822-8b2b-4abf27e3c9a8.dcm',\n",
              " '03dedd9f-7e97-42dd-99aa-afcb09e0395a.dcm',\n",
              " '03df15ef-8653-44c6-8088-4242a5073318.dcm',\n",
              " '03e4827c-7338-4de3-9ac6-8831ba5637e9.dcm',\n",
              " '03e5bc75-633b-40d1-88a7-0b5fad2eba85.dcm',\n",
              " '03e9a70f-3de8-4e13-b3f2-9dd6d75f496d.dcm',\n",
              " '03edb5ed-9e76-4abe-bc35-7bc95fea7e6a.dcm',\n",
              " '03f075e3-c8e8-4401-882e-645ad489926f.dcm',\n",
              " '03f43232-8362-4a4b-8632-aa336ce7ac08.dcm',\n",
              " '03f43302-39f0-48a1-ae3d-0c6c611b9302.dcm',\n",
              " '03f8bb03-eb04-4365-ac4d-d63d2b5d49cc.dcm',\n",
              " '0404639a-94b5-40c8-af85-8b0c6a972b01.dcm',\n",
              " '040784f9-bad4-4c22-98d8-b5244637a2c1.dcm',\n",
              " '0409b97f-7673-42e2-9943-0656c6aaca69.dcm',\n",
              " '0409d9ce-34d6-4ef9-8a80-6f01f68e6762.dcm',\n",
              " '040a0743-f663-4746-8224-f0e3bacc7ba5.dcm',\n",
              " '040d29d8-e737-4236-9466-649256f9ca53.dcm',\n",
              " '04158595-a45e-402c-94e9-df6fce1bb6bf.dcm',\n",
              " '041bf0ac-a841-4c4a-9f91-45f4b3b34671.dcm',\n",
              " '04204973-a034-4a50-a43e-2ae45186aa50.dcm',\n",
              " '0422a993-6daa-43b9-aa54-80104541f539.dcm',\n",
              " '0425c2d3-5491-42af-8284-a3ee2f3819dc.dcm',\n",
              " '0428e86e-a279-4bdf-9b73-c9eead06a4e7.dcm',\n",
              " '042bde1a-88c1-4ae5-af0c-1a409e1e09ee.dcm',\n",
              " '043410c0-9453-4c89-a1d6-2ee846d8a343.dcm',\n",
              " '043bf858-b33e-463b-98f5-32c0e75e49b3.dcm',\n",
              " '043cf55e-48db-407e-b8a3-e4b2d45a3131.dcm',\n",
              " '044089f1-96a5-4612-9366-ce2791b76653.dcm',\n",
              " '0444a527-72cf-4bc9-b17f-100cf7acc889.dcm',\n",
              " '04558d1a-1f4d-47aa-bf07-a6f6595f9cec.dcm',\n",
              " '0456cd35-da6b-459a-8ca6-47af176000c3.dcm',\n",
              " '045a317c-52dd-4528-ae30-5c6d53e039b1.dcm',\n",
              " '045df9bb-0f72-4b8a-8135-cd5120fb40ed.dcm',\n",
              " '045e3b0d-46ef-4a89-8795-0a85a2be0d6b.dcm',\n",
              " '04616bb0-77ac-4ba0-816f-7ddd96f60713.dcm',\n",
              " '04707463-aae0-4989-ae73-f9162275444e.dcm',\n",
              " '0479d585-4e1e-44b3-aabe-4aa8437a54c5.dcm',\n",
              " '0488a028-fb77-46e1-85fb-f0b86cf57fee.dcm',\n",
              " '0497796c-c5a0-4eb5-b6a4-66794924727c.dcm',\n",
              " '0499513a-5d48-4cf9-aac8-115e2a52fe1a.dcm',\n",
              " '049d7317-5a8b-4fc4-b81f-159fe6b45a92.dcm',\n",
              " '049f7858-3eb5-46a6-a3f9-d19013ea9228.dcm',\n",
              " '04a6aa6d-bd6d-48b1-822b-21b81c4bdf3a.dcm',\n",
              " '04bf4408-b797-4f4e-921a-d6305593b060.dcm',\n",
              " '04c08d05-e5f7-4de3-b0b3-d39b3bb9d113.dcm',\n",
              " '04c17986-8a5d-446f-a3ec-46ace41aeca8.dcm',\n",
              " '04cdd736-43c8-486a-aa76-9ed39feea7b7.dcm',\n",
              " '04ce0574-5d18-4661-973f-7bfbb0707a1c.dcm',\n",
              " '04d59a79-e659-49ca-8790-511f89ac3e1b.dcm',\n",
              " '04dd9347-6215-4b34-a98f-a73e577aff9d.dcm',\n",
              " '04e1ea5f-1e0d-4f77-82ca-81ff632641d6.dcm',\n",
              " '04e6f392-a196-447f-9b75-f5af995a36d0.dcm',\n",
              " '04e9f692-f3d6-496b-ae0c-905137cc1f84.dcm',\n",
              " '04f9bcc7-8886-4e1a-a938-122d3a065e12.dcm',\n",
              " '050068ca-78f7-4394-b8de-6ebe347192e9.dcm',\n",
              " '0503aac4-3d6d-416c-94d7-16fc3339ee61.dcm',\n",
              " '05073cbd-ad54-456d-9de6-b468db719b57.dcm',\n",
              " '05083068-f4df-464a-b669-3c084ee05f1f.dcm',\n",
              " '0516bfd6-2004-48bb-bbb5-e44ae173bcbd.dcm',\n",
              " '051c2709-fbbf-408f-aa19-c869e16a79e2.dcm',\n",
              " '051e6e97-fda7-4b5c-8d5f-084bf3607d22.dcm',\n",
              " '05207a0f-a1bc-46f8-8acb-aa72197e52af.dcm',\n",
              " '05212f46-32b5-4350-812b-2bab7509d93f.dcm',\n",
              " '05231d4d-f492-495f-9ab2-9a847a5483dc.dcm',\n",
              " '0523a43b-64f4-4ffb-81dd-1e6be8009178.dcm',\n",
              " '0526d2bc-c7f3-4660-9693-887ac6c173e9.dcm',\n",
              " '052e09c0-6747-4f72-8e71-96fcc489043a.dcm',\n",
              " '053208fa-ac79-46e2-9e78-f219ac122513.dcm',\n",
              " '05333c60-bee9-4c69-adc6-fc9de52e8cdb.dcm',\n",
              " '053f237f-c835-4067-8a74-a0b7641bdaca.dcm',\n",
              " '053f400c-145d-4770-841c-3ea961bb3644.dcm',\n",
              " '054eb541-ccd9-4e3c-a654-dc9855ac8e47.dcm',\n",
              " '0550968f-5ad7-460c-96c5-c2702535e344.dcm',\n",
              " '05576ba5-4a1e-4533-a6e3-9eee9a56368f.dcm',\n",
              " '055fde50-adad-457e-9672-05c8ea1533f5.dcm',\n",
              " '055fee13-c09c-4635-b35e-e50b9215d1c3.dcm',\n",
              " '05632b7f-f4c5-4d67-aa93-8f3c04eb7937.dcm',\n",
              " '0566560d-cbff-4025-b803-64498357df9d.dcm',\n",
              " '0567a5b7-3ba8-4741-87ed-488aebd02321.dcm',\n",
              " '0567d70b-5a94-4363-a162-7207ffaff023.dcm',\n",
              " '056c11ef-e99e-444b-824f-734a32ea40d2.dcm',\n",
              " '056d6cc6-fb4a-48a5-808b-b775d29a438a.dcm',\n",
              " '056f6beb-c3c8-4ee3-8db5-d1b50aabf7c9.dcm',\n",
              " '056fb495-574d-4b37-9f89-77b9ced2ef43.dcm',\n",
              " '0572881e-d1dd-4757-a54e-b240b30da946.dcm',\n",
              " '05744f1d-2fa5-41ce-85d3-3df6a7302064.dcm',\n",
              " '0582f503-a451-448f-87a5-a67589c5f7c5.dcm',\n",
              " '0586660a-f243-41dc-bcae-d1e342640846.dcm',\n",
              " '0587782c-ac6b-4ae1-8ffb-ce894d09f75e.dcm',\n",
              " '05905ac6-1b8f-4793-a7d2-ac794b1bb2ff.dcm',\n",
              " '0598a87e-6a8a-4439-a6ec-cd3395636b30.dcm',\n",
              " '059f1e59-573c-49d1-ac78-3323a2ff047f.dcm',\n",
              " '05ac0be8-b56e-4efb-aef7-513cd788e2c3.dcm',\n",
              " '05ad9fb7-7500-492a-a5db-d8e1c69855e5.dcm',\n",
              " '05b22cd6-c876-4360-8361-92845c6de8ba.dcm',\n",
              " '05b2d676-777a-4a4d-82ab-bf3f5f9b4d60.dcm',\n",
              " '05b5185a-e24a-424e-a62f-4e32c1e5a4b3.dcm',\n",
              " '05b7f19b-58ba-423a-89a6-5975679b2e15.dcm',\n",
              " '05b91b32-5635-4071-b45d-6a73f8eea918.dcm',\n",
              " '05b970e1-b223-4c17-a6a8-3f78c43c5308.dcm',\n",
              " '05bb6f8d-453b-4e56-ae92-2600e058ba65.dcm',\n",
              " '05be93e5-70aa-4879-bf06-6c866bde90d7.dcm',\n",
              " '05bfde5b-5626-4a1d-84c1-ea6ef456d409.dcm',\n",
              " '05c4f636-2c27-4b78-b874-878f499813aa.dcm',\n",
              " '05c8ec6f-c41d-4dbe-a6a0-2875334b0b9e.dcm',\n",
              " '05c9c22a-fe11-4c93-bcb6-67900893db3b.dcm',\n",
              " '05cba281-13bd-4a59-8a93-3278cef10b30.dcm',\n",
              " '05cd4a95-8187-41ac-929c-226015cceefb.dcm',\n",
              " '05d16b06-ffb2-40ab-b64a-299448999f72.dcm',\n",
              " '05d3817a-5535-4e77-8dda-d4412e496c81.dcm',\n",
              " '05d3b194-78bb-4fe9-aa1c-0f1d76e5641d.dcm',\n",
              " '05d4d725-02a2-4c90-8ef8-463217889ba8.dcm',\n",
              " '05dad446-45f7-44df-bd2f-4673d9502348.dcm',\n",
              " '05dc3a75-2069-4f66-b5b0-ce7fd9efe60f.dcm',\n",
              " '05e6c2e5-897d-49d7-a35f-c0fd707a2992.dcm',\n",
              " '05e79372-5e61-4957-bedf-c2c51a0757ad.dcm',\n",
              " '05ead813-3c04-4e42-a5e1-4ca43294ece9.dcm',\n",
              " '05ee72bf-6d12-4ac5-a47e-f43a7ea52a40.dcm',\n",
              " '05eebe4c-bca2-40d4-bb20-54fc60e2bcea.dcm',\n",
              " '05f42ea0-fa18-47ba-80a7-e070307300bf.dcm',\n",
              " '05f6eacc-e1a9-4b88-a0ec-f4ab5ba72e93.dcm',\n",
              " '05f88159-8c6e-4d9a-92a8-a20c6fb2930d.dcm',\n",
              " '05f9a259-1b07-4e83-8e30-6b01f3ae1cf1.dcm',\n",
              " '05fa458a-9e6a-4e02-b85c-c8d67c3161cf.dcm',\n",
              " '05fb0374-ab2d-4cf4-bb36-ce56fb2c28a5.dcm',\n",
              " '05fdba93-7205-4bff-ab67-649684bff036.dcm',\n",
              " '05fe70c1-4cc1-42fb-9303-083fd29dac0f.dcm',\n",
              " '05fe7d73-5c8c-4349-88c4-2071a00d6d81.dcm',\n",
              " '05ff7ddc-3fb7-4378-ac14-a10a08c64aaf.dcm',\n",
              " '06089341-a69b-4777-817b-041be894b436.dcm',\n",
              " '0609cacd-b9a6-485f-a6f1-5bb7b88db8dd.dcm',\n",
              " '0609fbd5-ef5c-4fdc-a51d-9fa0f05ea481.dcm',\n",
              " '060c4f8a-f04f-4f46-88fc-3d0b90f3608c.dcm',\n",
              " '06155af4-88f1-48b3-8860-27578f1b2e04.dcm',\n",
              " '061628a9-8a6d-4e01-8f26-b7a6cca2b13d.dcm',\n",
              " '061664a4-6a23-4cb2-a0da-0c5712b6e0a6.dcm',\n",
              " '0618a5bc-196d-4afc-9ac4-d0aa940c6e03.dcm',\n",
              " '0618f099-05dd-41d8-bf4d-b5ef8400c2e0.dcm',\n",
              " '06199c4d-5f6f-4736-81b1-07bf5b76bd78.dcm',\n",
              " '061b44ff-fd22-473d-853f-81da70e14a63.dcm',\n",
              " '061bb9bf-13c6-4ea0-bd82-5768fb83dff8.dcm',\n",
              " '061ccabd-b0cf-4238-a053-28a1960c1923.dcm',\n",
              " '061d0ff4-a611-42ce-b780-1d1eb55e50ab.dcm',\n",
              " '0620afa3-b2ea-442e-9e4f-c854086ca763.dcm',\n",
              " '06216b5c-c03f-4562-bfec-bec5235943d2.dcm',\n",
              " '062374a3-6ca1-48d2-aa3c-820053773b54.dcm',\n",
              " '0623ea89-c89c-4743-b492-55e398de4c9b.dcm',\n",
              " '06250f9d-5ad9-44ca-9283-dbf787e2ad22.dcm',\n",
              " '06327569-4e4f-4fdc-a116-db367c079669.dcm',\n",
              " '0634d937-1be6-475e-a5fd-dc9a2b6a8da6.dcm',\n",
              " '0637b804-e693-48d1-8716-f7c63ce6162a.dcm',\n",
              " '0638126f-126f-4f53-befe-538ff87597c6.dcm',\n",
              " '0638709c-d31d-4a59-a9e4-fc408ae36145.dcm',\n",
              " '063a4fc6-ef5d-4370-8b0b-c2752a4c905c.dcm',\n",
              " '063f63c9-7e5b-4360-8d19-0060d849fdbc.dcm',\n",
              " '063fed6c-4ecd-4a74-8f0d-c7a906a3afa4.dcm',\n",
              " '06415658-2590-4c38-a682-81acf9ef9a14.dcm',\n",
              " '06420c87-02ee-4315-aa3a-63e911174435.dcm',\n",
              " '06463240-3dd5-4d64-ad20-0956af60d1a2.dcm',\n",
              " '064bd2d6-5cc4-4933-957f-c880f44e2de2.dcm',\n",
              " '064c4273-4f62-417e-be2b-c30cd480fa82.dcm',\n",
              " '065158ed-021d-4d2d-a2e2-79b69a03853d.dcm',\n",
              " '06550cfd-e9d5-415e-bae9-3146329ed9e6.dcm',\n",
              " '065b3a2f-1af3-4ebd-a740-9e49f9c685db.dcm',\n",
              " '065b79b6-9a76-4b92-9417-de09b3d97cd5.dcm',\n",
              " '06605bfa-0370-4979-a2bd-11173002abd1.dcm',\n",
              " '06634f15-9c78-47a1-97eb-f10f4c210765.dcm',\n",
              " '0666201a-fab4-4828-81dd-73292312c766.dcm',\n",
              " '06697be9-b1ab-444c-af0d-fd11a053f2b3.dcm',\n",
              " '066d9e27-e48f-4453-b1e1-d73c34910722.dcm',\n",
              " '066e0d5c-0f47-425c-aa7f-9003c355086b.dcm',\n",
              " '06737bed-8dc1-47d9-8c30-324282dcc84d.dcm',\n",
              " '0678ff6a-7402-4065-8566-be18d983fbbf.dcm',\n",
              " '067b7ea4-bc57-41d5-ae13-5137f9df5111.dcm',\n",
              " '06893030-14ab-456d-a22d-05070773e370.dcm',\n",
              " '068ae297-8397-463e-927e-cb6693aeb8b5.dcm',\n",
              " '068b608d-f71c-4859-b909-62c1665b507f.dcm',\n",
              " '068c876a-d9ee-4a1e-810a-63c8195b27bd.dcm',\n",
              " '068e882a-df1e-4d62-92a0-9eef12024b01.dcm',\n",
              " '068f52ab-c25b-4212-97e7-b6f934fc3b75.dcm',\n",
              " '0693cf18-a4e1-408a-a5b2-f4cabfe169d3.dcm',\n",
              " '06941d8e-2034-4503-b8d5-0eb13fc52f75.dcm',\n",
              " '06951c33-b247-4daf-a087-cc082f83238b.dcm',\n",
              " '069554dc-f5b0-4947-be4c-873dd6360b5a.dcm',\n",
              " '0695a0d8-d4b6-4dbe-bc04-497897e4516a.dcm',\n",
              " '0696a98e-35fc-4b3a-b708-4be9cb2b9ab0.dcm',\n",
              " '0697baae-e475-4fa3-ad82-51b319a026cc.dcm',\n",
              " '069cfd47-0169-43e7-89a1-0be0fa24105b.dcm',\n",
              " '06a07f16-f6b5-4ae5-8f68-a97131fe4701.dcm',\n",
              " '06a161ab-2614-455b-b83a-00e6b0c29d69.dcm',\n",
              " '06a2ae98-575c-40c3-a32b-d0c80fee06c5.dcm',\n",
              " '06a4f477-34ca-4625-945b-81bfa9e77273.dcm',\n",
              " '06a7820e-8f38-4958-b871-518030a63432.dcm',\n",
              " '06a7e767-3117-45d3-8921-8501e710ed0a.dcm',\n",
              " '06ac3c8c-cd1f-4e10-ac24-4cb4f3ab1243.dcm',\n",
              " '06adea47-95e2-4423-bd9e-27daf8ed7de0.dcm',\n",
              " '06b1975e-066e-4430-bf60-c0a9d82cfdc3.dcm',\n",
              " '06b2f933-3ea2-4477-ac27-18f732d1f4e1.dcm',\n",
              " '06b52ffd-71b8-429a-a284-bb39240ed343.dcm',\n",
              " '06b64e36-9e61-4865-bfe4-d96eef86548c.dcm',\n",
              " '06b9ac69-9f45-4e7a-ad7b-802e4425ff64.dcm',\n",
              " '06ba1322-0274-47e0-b7eb-07c11d96360f.dcm',\n",
              " '06bc1519-c307-4a98-b00b-8329f2ddf615.dcm',\n",
              " '06bc1cfe-23a0-43a4-a01b-dfa10314bbb0.dcm',\n",
              " '06bca03f-83e3-4847-9e30-57c49851d50b.dcm',\n",
              " '06bdaf90-df6a-46ae-ac6d-a4afb7937c8d.dcm',\n",
              " '06bf9151-5732-4968-b198-f4109676cd55.dcm',\n",
              " '06c3982f-b0a4-4e3a-a85c-564c2e47e472.dcm',\n",
              " '06c3e09b-341b-4fb9-9e28-bfd9cf298c6d.dcm',\n",
              " '06c50ad5-8ffd-480b-8424-dd38df7ca86c.dcm',\n",
              " '06cb14bf-b134-4ad0-840b-8cf278559d66.dcm',\n",
              " '06cc46b7-50b1-41c1-a406-ccac7a5ac3e2.dcm',\n",
              " '06cc9b59-b8ff-4a6b-9e5b-f127c7c1208d.dcm',\n",
              " '06ce1fa2-986b-4936-82f5-7b06d0d3b4ff.dcm',\n",
              " '06cf339f-a71a-4177-b950-ae1fdd5f4762.dcm',\n",
              " '06cfc310-7820-4a81-ac26-67910f7e9ea6.dcm',\n",
              " '06d3f696-82ea-4c71-b162-f18b3e0eeeac.dcm',\n",
              " '06d5a58d-baf1-4937-bfc3-00db1fb2b1be.dcm',\n",
              " '06d6e209-0bd4-45d4-81b4-4b97546d57fa.dcm',\n",
              " '06df5d57-6f34-43c0-99ad-b9b5f9346cbd.dcm',\n",
              " '06e09ebb-cb5b-4c30-8d3a-67a6ec34692b.dcm',\n",
              " '06e1a29a-6307-4ec2-902e-b379d39d2101.dcm',\n",
              " '06e30df6-253e-4a03-b16e-49305fb0f165.dcm',\n",
              " '06e40d99-227c-4fa5-a51a-8691b155b837.dcm',\n",
              " '06e48d8a-93d5-40c6-b6be-f04378117ac8.dcm',\n",
              " '06ea9b14-2cac-42c6-b3d1-b955feafee23.dcm',\n",
              " '06ec9278-5144-4b88-87f4-c195bb24857d.dcm',\n",
              " '06edaefa-0bab-4e20-bba9-ee66be0edb12.dcm',\n",
              " '06ef9df8-ccf3-4086-9115-ecdb99d27df5.dcm',\n",
              " '06efb50a-e30e-4e44-b323-c228c66d80a6.dcm',\n",
              " '06f188cb-3b24-41c8-beb2-9058d235e2a3.dcm',\n",
              " '06f1d0a2-d8c5-4229-9944-59da85c96b81.dcm',\n",
              " '06f35e64-4b8b-404e-933a-c98f0b5614cc.dcm',\n",
              " '06f4f57e-ab00-459a-aa03-2ffe1dc75bdb.dcm',\n",
              " '06f5a38a-e4b1-4e5f-8c62-f48630a52504.dcm',\n",
              " '06f6f5e7-610c-4122-8731-aac15337b5e8.dcm',\n",
              " '06fc2885-127a-4274-b20c-554d352ea21b.dcm',\n",
              " '0700bc73-b6e3-412e-9e2f-aa0b83424804.dcm',\n",
              " '07015c3f-79d8-4340-9baf-255b2a5418bd.dcm',\n",
              " '07017f27-dee5-4979-8463-48459689cfc3.dcm',\n",
              " '0702a884-c189-4a05-bcf5-dc72f4f406fc.dcm',\n",
              " '07045469-bbc4-42ca-a8b9-9c83ef77f704.dcm',\n",
              " '07075b45-c83b-4e9a-971e-4b6c4554a0ef.dcm',\n",
              " '070c921f-171c-420c-915b-e49e3f600c38.dcm',\n",
              " '070efe1f-2b7a-4585-9e9b-561a4432fa57.dcm',\n",
              " '071206e7-d4c0-418d-9d06-ef6505ee5316.dcm',\n",
              " '07120dca-52d2-4c79-84fd-a11f995df2fd.dcm',\n",
              " '071223f2-92fd-40a1-b0d4-30308521ff46.dcm',\n",
              " '07125480-e928-4b5c-aaf2-62dddb1bf2a1.dcm',\n",
              " '07166637-dcb4-40c0-b553-257690afa9be.dcm',\n",
              " '0716e0cf-3822-406e-bfb2-c064cd471019.dcm',\n",
              " '0716f059-34cb-4046-ae86-46b47756fc2b.dcm',\n",
              " '0717d112-a8e5-46c0-9ba5-902cd9fe8fe1.dcm',\n",
              " '07237396-6757-44e4-b073-c32f33fe6dae.dcm',\n",
              " '0725cf2e-03d2-4e38-90e1-a9a85da37276.dcm',\n",
              " '07264588-d733-40e6-8ff3-97cc7a5ecf0c.dcm',\n",
              " '0727efd2-c063-4409-b326-9532f6531a97.dcm',\n",
              " '07290e87-0c95-4daf-ae97-2f7f971f23c0.dcm',\n",
              " '072e0dbf-11d7-4c57-8161-10c8e7b2f0bf.dcm',\n",
              " '072e7048-52f1-4b2b-be08-42e0ca1ba1ee.dcm',\n",
              " '073102b7-565c-460a-9b69-13e2f34c4ee9.dcm',\n",
              " '07332989-6518-4bd9-96de-f4513948cf4a.dcm',\n",
              " '07349035-d546-41ec-813a-612614536f5a.dcm',\n",
              " '07350f14-199b-4aa1-93ee-062fc3433702.dcm',\n",
              " '073630e6-3b52-4b41-a14b-bf8bb57e28ea.dcm',\n",
              " '0736db5d-1989-4e0f-99c2-c72c7fa90e8e.dcm',\n",
              " '07391275-3a53-4eb2-bb8e-160e9dc0a3c2.dcm',\n",
              " '073a77f1-90c5-4b5a-823d-6e1174ecf947.dcm',\n",
              " '073c6a26-29f2-4e61-9c52-7d41f3807cca.dcm',\n",
              " '073d58b8-b9a1-4d44-ae30-9cea99efa0c9.dcm',\n",
              " '074113b7-da5f-4742-93fd-654ee20939f5.dcm',\n",
              " '0742a7f3-5f8e-474b-bd1f-0ba8ba9a6b19.dcm',\n",
              " '07444c7a-580b-4494-a883-3b33361a24ac.dcm',\n",
              " '0745b403-9006-4534-b28f-0e19ba3ff8e2.dcm',\n",
              " '07464097-0781-4632-90ee-39b0e53cd72c.dcm',\n",
              " '074764ba-944c-46ba-b7b4-bc422ff3b7fd.dcm',\n",
              " '074767f2-05df-4e74-8ba6-f7fd568f9279.dcm',\n",
              " '0749e0ce-a84e-49bf-9275-a1ebd9281e3b.dcm',\n",
              " '074aea8f-d454-4590-9178-3183dbddcf30.dcm',\n",
              " '074f8729-c5ea-4830-8249-9a04208eab5e.dcm',\n",
              " '074f91b5-e915-4b6f-bdf0-af1ee55ebd9b.dcm',\n",
              " '07534f30-58a1-4043-b70e-156cdfafe1c6.dcm',\n",
              " '0754d5a7-fe8b-4a06-a127-66b483e645f4.dcm',\n",
              " '0755dd30-bcc6-4f75-9cf9-914962477fca.dcm',\n",
              " '075686e1-bfe5-4901-b326-1a082ed6b937.dcm',\n",
              " '07586610-21e3-45ff-ad4d-d7e2d19c9a33.dcm',\n",
              " '0759abcb-6e42-4837-956f-d4e8a4cd3537.dcm',\n",
              " '075ba3ee-9545-4f5b-8d97-e6d0ffd57e3b.dcm',\n",
              " '075d258f-013e-488f-9bd5-ab473413a1b4.dcm',\n",
              " '075f24e4-0d8e-4606-8e68-ee5ea0b953b5.dcm',\n",
              " '075f7167-e5ac-4c3d-954a-33576cb50600.dcm',\n",
              " '076149ed-e1a7-4424-b283-18161c95e0e2.dcm',\n",
              " '07624954-ac9b-42d4-9de3-9d35a18df062.dcm',\n",
              " '076ad555-8eff-4022-9c08-7205c59a75d2.dcm',\n",
              " '076c5f9e-787b-417c-8639-07639b581102.dcm',\n",
              " '076eab63-d75d-4272-a5d3-13eae02f2c8f.dcm',\n",
              " '07701659-5766-4828-bb65-27d208a42daf.dcm',\n",
              " '07705011-0d7a-46b9-ab51-b4d5f2bd495f.dcm',\n",
              " '07752357-2f21-4e42-9015-27886b3d5857.dcm',\n",
              " '07755c77-1391-49f1-8fdb-832082887aec.dcm',\n",
              " '077780cb-eb05-478f-a7d7-f0576e4c34df.dcm',\n",
              " '077783a3-b299-441f-aa87-d903d5f042d2.dcm',\n",
              " '0777be71-3ed5-4d03-a073-d34ae7426838.dcm',\n",
              " '07798a86-803e-4a25-b1ca-3394ae293be5.dcm',\n",
              " '077b3a33-856c-4df6-b036-d16f73898bb4.dcm',\n",
              " '077ff78d-27ef-49d4-9e8e-00e458844a3e.dcm',\n",
              " '07888d77-acd2-4e12-9f43-9272ae1cfe9e.dcm',\n",
              " '078aecd3-abe5-4a09-9c2c-4b13f852bd41.dcm',\n",
              " '0790ee1e-70c5-4f8f-9b80-cd10ecfd90f2.dcm',\n",
              " '079269e0-96f3-4964-8def-b13bd0aa837a.dcm',\n",
              " '0793267b-ba31-4f77-bee8-acde7a571231.dcm',\n",
              " '0796d0a6-8aa5-4edf-9c82-33523d8da0c2.dcm',\n",
              " '0798f0c3-bf7d-4f04-bd5e-b119163ea1b0.dcm',\n",
              " '079f6a17-f9ce-48b2-a6dc-2a83eb07edf7.dcm',\n",
              " '079fa565-0c4e-46a2-9a3c-f6341d97fd5c.dcm',\n",
              " '07a16de4-9d4c-4e88-a980-37734b8a4cdd.dcm',\n",
              " '07a35aa8-491e-49f2-a9a3-13df10f32484.dcm',\n",
              " '07a750fe-01d7-4d49-96c6-06fc1cba8504.dcm',\n",
              " '07a7adcc-5911-46a0-acc1-aaac588c0245.dcm',\n",
              " '07abb49d-c23c-41a5-b38a-b093011b59dd.dcm',\n",
              " '07aeb82e-773b-4498-95c0-fabdf4985bb2.dcm',\n",
              " '07afb190-e345-418c-8bd8-ca864b11b6d1.dcm',\n",
              " '07b24c8e-be16-4d5d-992e-b66e7930a387.dcm',\n",
              " '07b7b9b0-718a-4750-b1f4-5af45c5607f2.dcm',\n",
              " '07bb7f0d-ef4b-4963-b453-7f9d8c5b7c62.dcm',\n",
              " '07bc3b67-cc81-47c8-b384-7bc81a3a9fc0.dcm',\n",
              " '07bc7cbd-b313-47c0-b0eb-89d176a71810.dcm',\n",
              " '07c379f0-8ceb-4ba9-84be-cfbb29de8ba5.dcm',\n",
              " '07c5e2ff-fd3a-47c7-936f-33f34d11b41d.dcm',\n",
              " '07c6955b-57c1-4ba8-8b07-81b333624ed9.dcm',\n",
              " '07c7047e-1be1-43ba-85bd-75f8d9434757.dcm',\n",
              " '07c79bc0-131c-48ad-bf12-a386cad3d3a9.dcm',\n",
              " '07c99b1f-cf0c-40da-8ea9-8c5c9cd51189.dcm',\n",
              " '07cb515b-230e-4447-9f1b-d172e7840dd6.dcm',\n",
              " '07cdb450-541e-4810-900b-b3b7b9846e8b.dcm',\n",
              " '07d0762b-8d1f-41d9-8ea9-1b6e4097cd33.dcm',\n",
              " '07d1a89d-351c-4a75-993a-ba315142b419.dcm',\n",
              " '07d45be8-4344-473d-b377-26354b64078e.dcm',\n",
              " '07d86257-d0c7-408d-ab1f-4d29f23672d0.dcm',\n",
              " '07d8975a-76e3-4160-8784-c97e35166271.dcm',\n",
              " '07d8eecd-8160-4f1f-8e26-d35de039cef6.dcm',\n",
              " '07daedd9-d1b8-4ff1-b203-24e71326d083.dcm',\n",
              " '07dc2fb6-61f3-4d89-aa58-2780fb5f29f2.dcm',\n",
              " '07e08ccd-ea26-4cb2-b7ea-a330aff72a3a.dcm',\n",
              " '07e257da-ae36-45f1-baa4-5f7ad4e5d86b.dcm',\n",
              " '07e91ac7-990f-4318-8da2-732b09764cd8.dcm',\n",
              " '07ec1c73-c77a-4b43-bcc6-96f94cbd32ac.dcm',\n",
              " '07ed91aa-ef0c-49fa-a691-13efc83f8d7e.dcm',\n",
              " '07ef6836-c643-4708-8bca-85b9cd2bb57e.dcm',\n",
              " '07f1ae3f-2482-4c76-8801-bc4895b3f46e.dcm',\n",
              " '07f59492-1b36-4ff7-98b0-df996bf4fc4b.dcm',\n",
              " '07f62c5d-2351-49fa-8eed-02800042dc8d.dcm',\n",
              " '07f78db5-7d9a-4ba0-a00f-02c36953020f.dcm',\n",
              " '07f8978f-eaac-467e-8ff1-4de731dc441e.dcm',\n",
              " '07faa92f-6eef-4fbe-b3c6-8a78e1f05216.dcm',\n",
              " '07fc3068-9ae7-4ea4-958d-e6e6e49d5403.dcm',\n",
              " '0803b0fa-c026-40d3-b9b6-43b843d17632.dcm',\n",
              " '0808c4af-9ed6-46e3-a936-2cafb0004e6a.dcm',\n",
              " '08090a05-52ae-42a2-91e4-35dd3a8641da.dcm',\n",
              " '080f1469-5384-4678-b0ec-513ae837b583.dcm',\n",
              " '080f2b35-fcd5-473e-864b-a7dea3054cc7.dcm',\n",
              " '0812652c-3d92-4cda-9a06-c9d232e0b96d.dcm',\n",
              " '0812b373-eef7-47a9-a942-0850b004eb1e.dcm',\n",
              " '0817d40c-ca56-43f4-acd0-349e5e2fdc9f.dcm',\n",
              " '081a1f56-6c47-4b80-988a-3d357c977d65.dcm',\n",
              " '081a54bb-0144-4c22-9909-e3e45b15ff4c.dcm',\n",
              " '081e308c-0134-4ba3-b745-f632e37a83a1.dcm',\n",
              " '0821dd8e-16f7-4931-ac86-37a6cb40df84.dcm',\n",
              " '0821fe84-360a-4924-81c6-b8db9d345709.dcm',\n",
              " '08226aab-e8d2-401f-8b8d-1a2a51234c42.dcm',\n",
              " '082391ac-5057-4479-8abf-12b42afb47ca.dcm',\n",
              " '0824dce4-e0fa-4129-adc8-224c6afa6bc2.dcm',\n",
              " '08295bd5-d317-467a-acbb-ba3ba9218c9f.dcm',\n",
              " '082fb468-30f1-43c1-ac04-62d16fdd883b.dcm',\n",
              " '082fd63e-aec4-401a-822b-eb10d98b562c.dcm',\n",
              " '08307845-ccbd-4616-b8e9-58532a766dbe.dcm',\n",
              " '08378826-08b5-4853-a607-254a419fbac5.dcm',\n",
              " '0837bf4a-b300-4918-b6bd-d67e941bf16a.dcm',\n",
              " '0838fe18-1e25-4d02-8287-7692d2a5bb57.dcm',\n",
              " '083a1a20-f642-42e3-b20b-937383f6da3c.dcm',\n",
              " '083a65b4-2056-4208-bfdc-26c3fdb0df93.dcm',\n",
              " '083e7d20-cee0-482e-acb5-029868b78fb8.dcm',\n",
              " '08483dbc-6223-43e2-b049-b1f86ef8bbcc.dcm',\n",
              " '084aa98a-91aa-45d8-aa52-4fad8344b0bf.dcm',\n",
              " '084d42b9-0a43-490d-9a8d-e4d7545c44f5.dcm',\n",
              " '084db3b9-8b5b-494d-8e81-7b6b98de6287.dcm',\n",
              " '0851431b-cad7-436f-acb8-06aed97e5339.dcm',\n",
              " '0851e63b-8a7c-4089-afd2-b63c28795669.dcm',\n",
              " '08542d41-e606-41df-b08c-9527b531f13f.dcm',\n",
              " '08574be9-8e78-4b0c-a317-2dea6ab92d87.dcm',\n",
              " '085a25eb-1ebd-4bf1-b320-7833e7c37553.dcm',\n",
              " '085a6486-c3b3-4ca2-80f1-be07d23e853b.dcm',\n",
              " '085c8aef-ef57-43c8-a14e-4eb3f252010f.dcm',\n",
              " '085f5a19-2746-43e1-a3c7-34ce070d1ad8.dcm',\n",
              " '0862f2ff-7e56-4cd1-8c26-c3f25a86d257.dcm',\n",
              " '0864e801-58cb-4df8-b7a8-dd9e32c97178.dcm',\n",
              " '086b7fd3-3f6e-4701-9da6-921d703fc99d.dcm',\n",
              " '086c0080-f9e5-4f22-ab06-7ad7248e814c.dcm',\n",
              " '08725d04-9db2-4b52-87fe-6cdb150a4bb3.dcm',\n",
              " '08732533-75c0-45e3-9565-f69307152c23.dcm',\n",
              " '08769747-d4e5-4532-801d-18e04ff34668.dcm',\n",
              " '08787bcc-1365-4567-97ef-dc8ad74eda25.dcm',\n",
              " '08789eee-3b6c-4f3b-b98c-fa8cd25a3ae5.dcm',\n",
              " '087bcaa5-2477-4111-8390-fa5f2dec4852.dcm',\n",
              " '087d375c-c266-4069-84dd-4d1d9d906539.dcm',\n",
              " '08810d26-6674-4d73-91d5-ecdfdd0a0b42.dcm',\n",
              " '088265f7-0350-4c51-a7fc-99f1ddc89ae1.dcm',\n",
              " '08845a57-ec6b-4efc-b919-6020dc4460b9.dcm',\n",
              " '08846808-af38-4f0f-a189-d19938ae8efc.dcm',\n",
              " '08886e85-61de-479a-b2df-99ef3c5d0b05.dcm',\n",
              " '0889b108-8f03-4fef-9ef3-5ddabde15ce7.dcm',\n",
              " '088b89f6-6847-4a20-b1ad-5887b56bbae7.dcm',\n",
              " '088d38bd-2b6b-48cf-9c83-e9e4214a9c28.dcm',\n",
              " '088d4414-e057-45cb-a206-4dd3bb02dd6c.dcm',\n",
              " '0892a3a9-1345-42b3-8412-b930fd9066e5.dcm',\n",
              " '08941080-30dc-449f-a8e1-e6530f4695a2.dcm',\n",
              " '0898494b-fa6c-442c-b049-eb974ccee7b3.dcm',\n",
              " '089a996e-425c-4311-b473-6948b3eb1060.dcm',\n",
              " '089df963-c3c7-499c-afd8-2b0f9224c442.dcm',\n",
              " '08a09eef-7c20-414d-b36f-bd609dc5c763.dcm',\n",
              " '08a40736-fee3-405f-a326-c1af30e724bc.dcm',\n",
              " '08a5a06e-f9a5-4e0d-abd2-e4d8ee005fb7.dcm',\n",
              " '08a5ff94-633a-4b7a-babe-6f91a324e672.dcm',\n",
              " '08a74d38-bb50-4c38-9e41-7fd0976d428d.dcm',\n",
              " '08ab87a3-886f-4b5a-9818-889337c63d0b.dcm',\n",
              " '08ac2f29-e8b4-484e-9394-806ef7bee8ea.dcm',\n",
              " '08ae6c0b-d044-4de2-a410-b3cf8dc65868.dcm',\n",
              " '08af877f-f833-4d4f-b64c-24e014d63311.dcm',\n",
              " '08b0056b-c563-4b30-9101-2ed685fdad1f.dcm',\n",
              " '08b1c32d-e070-4a2c-9d75-f41055b7273b.dcm',\n",
              " '08b76292-b24f-4130-ae4f-3af518a9d5a3.dcm',\n",
              " '08b9ee23-ff64-4494-b293-5e43f3de3453.dcm',\n",
              " '08bc9387-94f1-4ce8-8958-15864bca9052.dcm',\n",
              " '08c343b6-9dc4-405b-87b3-b6534abcb990.dcm',\n",
              " '08cbc4cf-9efb-47e4-a77f-d734e6a273c5.dcm',\n",
              " '08cf13be-3988-4a73-b5b6-b9b09e1daab8.dcm',\n",
              " '08cf3d00-57e7-49c2-ae30-7994da5cfa86.dcm',\n",
              " '08d0531a-b5c3-4677-94f1-a48101ed3e06.dcm',\n",
              " '08d88a60-146c-49a7-9450-45293024cf46.dcm',\n",
              " '08d8e57a-4835-445b-8c79-8dd31ab17819.dcm',\n",
              " '08da8f40-b186-473b-9fa3-1caa4ecdc02b.dcm',\n",
              " '08dc2e8b-754a-47ad-97e2-efe6e14fd732.dcm',\n",
              " '08dd362a-d27b-47bd-a763-5e07f49f4584.dcm',\n",
              " '08e128a5-3d31-45cc-a848-5602123b4ff9.dcm',\n",
              " '08e237d8-7d4d-410f-b48e-1e2817df9aac.dcm',\n",
              " '08e31c62-d3bb-4f18-8e78-78e276494ba3.dcm',\n",
              " '08e483d6-4e5d-4685-9dfb-d1befb56a31f.dcm',\n",
              " '08e84251-b9cc-47e7-9486-be7becdd1d84.dcm',\n",
              " '08ec2d3b-bc62-47c6-b0ce-632f8dbbdb21.dcm',\n",
              " '08ee8fda-45f1-4f46-a5ac-315a8d4dd196.dcm',\n",
              " '08f095ca-158b-4c84-81c1-8f2cd7e20184.dcm',\n",
              " '08f17660-dc61-4a5d-b6fb-10dacc1e20a2.dcm',\n",
              " '08f1b734-cd93-42c0-b978-9e1e1021bb55.dcm',\n",
              " '08f580ca-6c0e-47ca-9759-851b3c0bb397.dcm',\n",
              " '08f9a388-c195-4b33-8acd-e05d4da14585.dcm',\n",
              " '08fa5211-04ae-4150-b006-9683187f67d3.dcm',\n",
              " '08fda39f-ba68-45cc-9bbb-d416b19c6dc2.dcm',\n",
              " '09009286-a589-4fb9-8c2c-540e16c75481.dcm',\n",
              " '0902e0fc-fcf3-40b5-ac04-c3ecc14c2355.dcm',\n",
              " '0906b366-f454-4c62-88fc-caf7ffb5d36b.dcm',\n",
              " '0906c2ce-d3a7-43ad-af1b-1dadf70d8cc4.dcm',\n",
              " '0909a8b0-09e7-4a78-9bfb-417a61c6723c.dcm',\n",
              " '090abf67-66f4-413b-ac4a-bfad36e07e1a.dcm',\n",
              " '090f0fcb-98c9-4324-9857-3bc2a9cfd4e8.dcm',\n",
              " '090f2c9a-8d1c-4583-98e5-b965a0105c70.dcm',\n",
              " '09137a8c-017a-4bc3-8195-1d152b992cd0.dcm',\n",
              " '09147009-39a9-497a-ac10-a07cf7126d58.dcm',\n",
              " '0916b1f0-5d26-4703-94db-9a6808f287f7.dcm',\n",
              " '091781dd-be2b-4517-9264-ade2f0c85487.dcm',\n",
              " '0918aae8-b873-4510-b975-c6e87df90f58.dcm',\n",
              " '091ab452-0ea2-4f1b-b853-20b0031f1f99.dcm',\n",
              " '091cc2b7-8ba6-4fce-8ae2-7547117dbddf.dcm',\n",
              " '091d75a8-e23e-4cb8-af67-10cb314077ec.dcm',\n",
              " '091d9bb8-eb0e-48ef-946a-254a4f8f0a0b.dcm',\n",
              " '091e90d0-bdb7-4815-935f-5b52b93ddbe6.dcm',\n",
              " '091fa211-36c0-42a4-bd7d-c8bced664d9d.dcm',\n",
              " '0922222f-03d6-4346-bf1a-63ed17eb45d3.dcm',\n",
              " '09232852-c9c0-487a-b656-d6fa013b0453.dcm',\n",
              " '09236f60-57e0-48b3-aede-a885f4dfe1b1.dcm',\n",
              " '0924465c-dbf3-49b3-97db-a4c49f6010c2.dcm',\n",
              " '0927bc1e-e1af-4c7e-93c4-7127d366f57d.dcm',\n",
              " '0927e819-9640-487d-a04e-f5d4732dbe0a.dcm',\n",
              " '0930b0aa-25c2-4624-a3fc-9b60ba0b23f4.dcm',\n",
              " '09326eb7-f4cb-4d8f-83c6-8ba7fb8b5ac7.dcm',\n",
              " '0934e2a4-10f9-45f2-9729-af674d68118c.dcm',\n",
              " '093ce867-9a80-4748-83ed-3d81d26b7741.dcm',\n",
              " '0940017e-0dc8-414a-9560-98f13cd58610.dcm',\n",
              " '09460406-b734-43b0-8233-23055dea6dde.dcm',\n",
              " '09471800-38bb-448e-9a36-5544dd585676.dcm',\n",
              " '094977f5-89e2-4f48-9c9f-5954aac94d59.dcm',\n",
              " '0949d712-9d3c-424a-99b5-423a598d8b97.dcm',\n",
              " '0949dfc4-7613-432c-8d16-4cf0aa5b15bb.dcm',\n",
              " '094eed38-9c5b-4042-936d-344ccec4c3cc.dcm',\n",
              " '0952761e-07c2-441a-bb1b-11bf1b5375c5.dcm',\n",
              " '0953df2c-f969-4fa1-a872-022475ecd5ef.dcm',\n",
              " '09547f4f-c52e-4fd7-8738-0e01e6277034.dcm',\n",
              " '09591753-b569-435e-bd44-a80a3cfc6927.dcm',\n",
              " '095aecad-1618-4b23-b7b9-342c25c4666b.dcm',\n",
              " '095ce5a1-3928-4120-9f15-24162c7f27c7.dcm',\n",
              " '095d6b7c-fa53-4f06-90b9-5c5f76038f04.dcm',\n",
              " '095edab1-09c6-4f83-931e-f0a33b77639c.dcm',\n",
              " '09629e2b-7f1e-499c-aab7-2bff196f034b.dcm',\n",
              " '0962d39c-572c-4412-a33d-bfc7c66f9bbb.dcm',\n",
              " '0964504e-56bf-42b2-bca7-0147fb2c1358.dcm',\n",
              " '09653ae4-ae24-4839-a56e-7270d6e51eb7.dcm',\n",
              " '0965f1e9-2905-40ef-8612-4984e2c7e9ea.dcm',\n",
              " '096783f6-e36c-4625-86bf-4d060a00a3b7.dcm',\n",
              " '096a447e-8908-432b-a713-a51d3cd2ae9e.dcm',\n",
              " '096c2c94-dec1-4f8a-8718-2eb7d73547d0.dcm',\n",
              " '09714ab6-5dce-4ded-94cc-f79a47b4b171.dcm',\n",
              " '097574ff-b999-4c5f-bb7a-3eee6fed02d1.dcm',\n",
              " '0976dbc4-041f-4bb0-9110-3024d0786c8b.dcm',\n",
              " '097771b8-ab5e-4b23-8116-6d674a688c88.dcm',\n",
              " '097788d4-cb88-4457-8e71-0ca7a3da2216.dcm',\n",
              " '0977f16c-c343-42c9-95ed-d7ca996feb16.dcm',\n",
              " '09794a15-ea37-41f8-8a0e-a56a9a93eaa6.dcm',\n",
              " '097a2839-5587-4bf4-9adb-641d8caa877b.dcm',\n",
              " '097aa88c-3228-4b27-8d30-2071fdb6a37d.dcm',\n",
              " '097df78d-7101-478a-9e33-2748a084e01e.dcm',\n",
              " '0983ae59-b906-4fd5-a810-edfe0580fe3b.dcm',\n",
              " '098435af-3834-466a-b17a-038ac4f0e464.dcm',\n",
              " '09852193-d7df-4cce-a616-a536d5de5042.dcm',\n",
              " '09854bb5-4fed-43e2-96cf-8f24ca71cb6e.dcm',\n",
              " '0985fbca-8311-4a6a-9d74-7dca4dce2521.dcm',\n",
              " '0986f27b-74ed-4bc7-9595-e40b345cb161.dcm',\n",
              " '09875c3b-c520-4b08-89b0-a7a7299c37b2.dcm',\n",
              " '098906c5-cf22-43d3-9f0d-90e88e602090.dcm',\n",
              " '0989935f-d8e5-4b59-a72e-077da14ba7f6.dcm',\n",
              " '098c0843-d0f1-4aa3-b593-925d9327e31a.dcm',\n",
              " '098cc073-48f8-4cb9-b6fc-4b2cc5d8e081.dcm',\n",
              " '098e14d4-3205-4c2d-a059-738f830c0aa5.dcm',\n",
              " '098fdba1-4918-40e8-bb74-9945214c8bd5.dcm',\n",
              " '09918992-0dfa-4ab4-9e3c-51444c0267aa.dcm',\n",
              " '0996439a-352a-4c75-bb53-d13759eca6b6.dcm',\n",
              " '099abc5b-f471-4e24-90be-f1a4b4428166.dcm',\n",
              " '09a22f6d-5717-4c48-bf4c-531db698aaac.dcm',\n",
              " '09a71d45-931c-4089-958d-3eca0f1e303a.dcm',\n",
              " '09ac8fc5-e8ed-410e-b167-3abaf28f0e2c.dcm',\n",
              " '09ad8591-5c65-49f5-a297-3ffe33811bb5.dcm',\n",
              " '09afc58a-053c-420e-b379-e331aec15a7f.dcm',\n",
              " '09b0df7c-90bc-499d-a7c7-5474199da4e6.dcm',\n",
              " '09b2d54e-3a85-4efd-8204-ea73bc70c405.dcm',\n",
              " '09bd30b6-8b2f-43b0-a40e-3fa32ba5787d.dcm',\n",
              " '09bf61e1-15ac-4425-9489-75165548f3df.dcm',\n",
              " '09bf9eae-2dbf-4c50-ae08-29fd1257cb89.dcm',\n",
              " '09bfe52b-201a-435a-b04f-ada40a64b5b5.dcm',\n",
              " '09c0e0e5-e269-4d0c-89ea-59d1a77e2097.dcm',\n",
              " '09c48ba8-4f0b-483c-85ec-9246d7cc6177.dcm',\n",
              " '09c792bc-56ce-4689-9722-c1d7b507e4af.dcm',\n",
              " '09c869c1-27a6-48cc-bb9c-3eeed5863564.dcm',\n",
              " '09c93c46-095a-4e8d-aedb-52555fbfc9ba.dcm',\n",
              " '09ca5945-7f34-475b-92fe-33b028e15247.dcm',\n",
              " '09cdcb9a-3768-4403-a85e-37a65711aec4.dcm',\n",
              " '09d11876-e367-473a-addf-f445b1a94bec.dcm',\n",
              " '09d21970-3207-4817-ab35-b26bbfdead9e.dcm',\n",
              " '09d2a8d3-3ef9-4e91-8abe-d1c127747905.dcm',\n",
              " '09d41130-fc56-4a25-96f0-862f00a790cb.dcm',\n",
              " '09d79f22-df14-4e5a-bc98-7a1d6bcd6965.dcm',\n",
              " '09d868e6-ad0e-4a55-b8fd-cf46e84dd08b.dcm',\n",
              " '09db0213-0ad3-4062-bc7b-9a82e5a74097.dcm',\n",
              " '09dc577c-4219-45cc-9d01-6b46978927a7.dcm',\n",
              " '09de3f3c-b46f-4be4-b9a8-f767b000845b.dcm',\n",
              " '09e68f8e-f07a-4240-93f0-ce1969b46a80.dcm',\n",
              " '09e8fae9-1714-4b54-a1d3-42a29a9717c3.dcm',\n",
              " '09ea637f-0f6a-427e-8dad-858330a2498e.dcm',\n",
              " '09eb4d2d-ebb1-4eb7-bfbb-038ffb7100ca.dcm',\n",
              " '09ec5bb9-ba5c-465e-b0cf-b2acb6ea2cd0.dcm',\n",
              " '09edbe84-9f36-465b-b227-00abd25c9afc.dcm',\n",
              " '09eed5c5-e0e9-463c-b6f7-24e2de881287.dcm',\n",
              " '09f0ac0a-2933-45fc-a937-c0da67f5fd0d.dcm',\n",
              " '09f0d4b9-acf6-4e2d-9a1a-5af5734bd96b.dcm',\n",
              " '09f314e5-047f-4f7d-87b3-b944e9e566dd.dcm',\n",
              " '09f3a088-a8cc-4fb5-9f43-c0b150828cc2.dcm',\n",
              " '09f4c4be-0320-4e2c-8e3a-f5fd0a193085.dcm',\n",
              " '09fab84b-19f3-42e1-9c90-69a49b7b37d6.dcm',\n",
              " '0a03a65b-9e45-4e3d-ae6c-b8a37112ab31.dcm',\n",
              " '0a03fbf6-3c9a-4e2e-89ce-c7629ae43a27.dcm',\n",
              " '0a09d6e7-5e7c-4100-a690-ad3690fedd3b.dcm',\n",
              " '0a0f6755-610d-4b7c-a460-5f5a8f5c0743.dcm',\n",
              " '0a0f91dc-6015-4342-b809-d19610854a21.dcm',\n",
              " '0a120828-703c-4273-9d62-317dc92c560e.dcm',\n",
              " '0a15acdd-248c-47ff-abfc-d33f8a0cf417.dcm',\n",
              " '0a19fb3c-36ef-401b-9deb-77f4f86d5d80.dcm',\n",
              " '0a22297d-22e1-4f3f-aa10-edcd220c1cb0.dcm',\n",
              " '0a23debc-fa30-486f-9555-750be017ae75.dcm',\n",
              " '0a25c372-266b-4d06-9ff5-a4fbb0461be4.dcm',\n",
              " '0a29f841-b738-499a-bc8e-0589de77ef82.dcm',\n",
              " '0a2c130c-c536-4651-836d-95d07e9a89cf.dcm',\n",
              " '0a2f6cf6-1f45-44c8-bcf0-98a3b466b597.dcm',\n",
              " '0a3227d3-c8df-44fc-b1cb-fb0eb743f79f.dcm',\n",
              " '0a34d5d9-8c50-4b97-9c9c-e5d6ed862a3d.dcm',\n",
              " '0a35c2fa-9f9e-4157-8deb-8e5d9e69dbc3.dcm',\n",
              " '0a374967-8ef8-4d34-94cc-a06929836723.dcm',\n",
              " '0a41d5c4-83b0-43e4-b98f-be69dcdd4636.dcm',\n",
              " '0a461c5f-08e6-4c86-9ecd-5246e613f8c2.dcm',\n",
              " '0a46eca3-e577-4c7f-a782-9d54754bf096.dcm',\n",
              " '0a48e8eb-2c55-46ac-82b0-9bea6c5b7872.dcm',\n",
              " '0a4b4307-d370-416e-afe5-7c9aeb1d6953.dcm',\n",
              " '0a4d9634-7ee8-4512-ba83-6ff5e352b2c2.dcm',\n",
              " '0a50d5b7-436c-464e-aba4-4264cebb35be.dcm',\n",
              " '0a51f668-b7b1-4d8d-9ab9-de1f702f071a.dcm',\n",
              " '0a55219b-5303-4490-b173-6039f355db2f.dcm',\n",
              " '0a578f72-dced-4550-8851-d8005549b724.dcm',\n",
              " '0a5a6574-d94d-441f-afe4-115ba66b322e.dcm',\n",
              " '0a5b4860-e6ab-4737-a389-9d0cf7300770.dcm',\n",
              " '0a5c4dcb-33ac-4466-9dbf-42ed5c8ec1f0.dcm',\n",
              " '0a628951-4482-4d01-a09a-9e590b886cf2.dcm',\n",
              " '0a62df77-7459-4acc-9cca-a62c2cec4b0f.dcm',\n",
              " '0a63a331-3e17-4e23-8a9f-f7a4ec850a1b.dcm',\n",
              " '0a66f58c-f98d-41d1-89af-4e0136888e13.dcm',\n",
              " '0a6a5956-58cf-4f17-9e39-7e0d17310f67.dcm',\n",
              " '0a7162ad-b2bc-4132-b15a-7fdc80957618.dcm',\n",
              " '0a72a6fe-0dde-49f0-bb65-d3d73366b83f.dcm',\n",
              " '0a74badc-f221-4017-96a6-055ee057b57d.dcm',\n",
              " '0a74f788-cd7e-47a5-a437-cb9a7dd00a06.dcm',\n",
              " '0a796f83-f908-4b83-9252-e513d107be2e.dcm',\n",
              " '0a7b0cc8-af04-4d2c-9267-6fdfb05f48f2.dcm',\n",
              " '0a7b13a9-bcfe-4a99-b699-4c8cf6882f04.dcm',\n",
              " '0a80033c-8a64-4810-9ecb-6013f7b0dde9.dcm',\n",
              " '0a825a59-c034-481c-b596-9c7f0bc42c2c.dcm',\n",
              " '0a828af6-b7c6-4757-88e4-dea54fe6cdc9.dcm',\n",
              " '0a842feb-40ac-44aa-bcf6-d37109e59006.dcm',\n",
              " '0a897002-2add-44df-90b3-5a17c51a6da4.dcm',\n",
              " '0a8b9570-2684-48e1-b016-e14a6a79cd3e.dcm',\n",
              " '0a8ccb49-debc-4e9a-b5dc-eefc3fe909ca.dcm',\n",
              " '0a8d486f-1aa6-4fcf-b7be-4bf04fc8628b.dcm',\n",
              " '0a8db596-9ef7-4b6c-a5db-7bb6029d0b9d.dcm',\n",
              " '0a8efdc1-1dff-4d65-8948-c56a5d74a906.dcm',\n",
              " '0a97ffca-0d28-47ff-92ea-bf7144a91b66.dcm',\n",
              " '0a9c4c04-5918-48da-9ba1-b2a3add66ae9.dcm',\n",
              " '0a9fd225-a33a-47de-849e-156933b21296.dcm',\n",
              " '0aa43663-a1f3-44cb-8ecc-9b36fbb0d778.dcm',\n",
              " '0aa5abc0-7db8-44d4-b3b7-8133787e0862.dcm',\n",
              " '0aa83e7d-e947-46e9-b5ca-a69cc9e5c8fe.dcm',\n",
              " '0aac426a-b407-4010-b029-34513b6871a6.dcm',\n",
              " '0ab1a1e1-3fe3-4baa-876b-f66825931486.dcm',\n",
              " '0ab261f9-4eb5-42ab-a9a5-e918904d6356.dcm',\n",
              " '0ab601ca-5f86-498f-89ab-73208a353e40.dcm',\n",
              " '0ab731ef-0580-4a2e-9fa2-29a243b71c86.dcm',\n",
              " '0abbde89-55e8-4b25-ba9b-17a99f84bae0.dcm',\n",
              " '0abf8707-def2-4383-9b0d-4b8c122e9af7.dcm',\n",
              " '0ac2c2ef-efb4-485c-b63a-69f19f32b704.dcm',\n",
              " '0ac2fb38-efab-454a-971e-d8349b8ad28d.dcm',\n",
              " '0ac7133f-2b44-44c3-b377-de36af4dbc87.dcm',\n",
              " '0ac789c5-f138-4b5d-9c2e-9ca25de243d8.dcm',\n",
              " '0acc499c-802c-47e8-a297-87ea7d971462.dcm',\n",
              " '0ad17cb4-c693-4ac1-9bfb-8e7660c265a2.dcm',\n",
              " '0ad6376d-b516-41f3-b9ef-9ad8d2dc642e.dcm',\n",
              " '0ad9934b-bf35-497d-8082-1ecbc955d6de.dcm',\n",
              " '0adcbadd-6b95-4692-bdfb-6a03d51af237.dcm',\n",
              " '0adec32a-b360-4396-866f-f1abaca047dc.dcm',\n",
              " '0ae12060-f38f-43ad-8a88-a06322f920ab.dcm',\n",
              " '0ae5ae70-e9a3-4214-93d0-0834f0cd4835.dcm',\n",
              " '0ae5dcc7-197d-4d59-991a-3b93f3a1e760.dcm',\n",
              " '0ae6a60a-7657-4fa4-8f64-2aa088c4cd7c.dcm',\n",
              " '0ae738d0-5bdd-4ebf-9c1f-6b10a25be92a.dcm',\n",
              " '0ae82435-399e-4cf1-9d78-92d1c184178d.dcm',\n",
              " '0ae93f35-2954-41a2-a33b-6614f36dd1c3.dcm',\n",
              " '0aee76d8-e3e0-4150-b645-9a80a2f4208f.dcm',\n",
              " '0af0a3a7-6df3-4217-b24f-cf6fcdc9a3bf.dcm',\n",
              " '0af57062-e071-4083-ae38-a6681b101994.dcm',\n",
              " '0af9ad69-4d76-4de9-b93a-294478a97866.dcm',\n",
              " '0afe24ff-259a-4ddd-84b1-8b8ce016345e.dcm',\n",
              " '0afeabf5-d5a3-454f-a50d-887f0d21106c.dcm',\n",
              " '0afef50e-63a7-4adf-9bc1-02f73612be56.dcm',\n",
              " '0affd017-4c75-4cf8-9c30-e33c5d853f11.dcm',\n",
              " '0b0073e0-9c19-4da4-88f2-b3d2ebc6f1f4.dcm',\n",
              " '0b00ec19-0e23-48eb-8936-c03379bf65c2.dcm',\n",
              " '0b00fd58-8071-4e60-b9fc-00bc3cd4ab26.dcm',\n",
              " '0b01310b-50f4-4d78-992d-bcad614e6d46.dcm',\n",
              " '0b025ff6-4fa0-4302-b02c-fe2069dfa7ce.dcm',\n",
              " '0b034d2e-2e49-444a-a7af-cac91c2c01d8.dcm',\n",
              " '0b04562b-ea31-455d-a729-106264dc170b.dcm',\n",
              " '0b0860dc-b2ca-4016-a6eb-3a88ffb5ab2a.dcm',\n",
              " '0b0b36c6-fa59-4cca-b939-aec774926e48.dcm',\n",
              " '0b0bd979-ce90-4ed4-8772-b136515e38c0.dcm',\n",
              " '0b18b129-53a3-416c-8559-7a2e9748d2cc.dcm',\n",
              " '0b18dcfc-c526-435b-aea8-d8038aa224ef.dcm',\n",
              " '0b1c0cf3-21b9-49f0-b33b-3e71b24295eb.dcm',\n",
              " '0b1d5b23-c3ab-41b5-b82d-a16a3d6b5674.dcm',\n",
              " '0b1ee3f4-f6e7-4c92-850a-73724e5b7bfc.dcm',\n",
              " '0b202292-a925-4706-963f-28fd16cef0c2.dcm',\n",
              " '0b2057bc-4c6d-4c90-8975-94c02392e460.dcm',\n",
              " '0b2e67fe-09ae-40b0-8089-4dddb7c2c0cf.dcm',\n",
              " '0b2e8b54-aab8-45a1-ac87-f98c91590cdf.dcm',\n",
              " '0b323a31-28e6-45b2-a07c-cc9b60571053.dcm',\n",
              " '0b352cce-b6f8-4130-adfe-38fcc180a952.dcm',\n",
              " '0b3b1768-5926-4084-bed0-ad9ae886d13a.dcm',\n",
              " '0b3d3db8-871d-45a6-a8af-3c76b5b92f1f.dcm',\n",
              " '0b3e4d34-b9d2-42b2-8d4a-08e67098486f.dcm',\n",
              " '0b407f1e-dd57-49a7-836b-58ea0b3888de.dcm',\n",
              " '0b421aea-6e0f-4faf-a4bf-4a82445d0e35.dcm',\n",
              " '0b424b41-7f38-4c70-840d-dbc5d6901c78.dcm',\n",
              " '0b442c81-aaa1-42ab-b670-76212d7adb45.dcm',\n",
              " '0b46a9e3-2b90-4d9f-8053-bcaa9066f31c.dcm',\n",
              " '0b48e8f1-1f33-47ea-8cd1-1c65ae26ad72.dcm',\n",
              " '0b494528-53d2-42f5-b9d9-8965b551db52.dcm',\n",
              " '0b4f8335-8b99-468e-8556-4190522e8f3b.dcm',\n",
              " '0b4fba3d-aeaa-49d0-bbf1-e66f8f0142ff.dcm',\n",
              " '0b507e5b-5037-486c-81d0-8a6f86797056.dcm',\n",
              " '0b510189-2f09-4273-89fe-4ce4581ae69a.dcm',\n",
              " '0b53bc2e-60ed-48c4-8754-c094c5b4c92c.dcm',\n",
              " '0b541956-cae5-4e25-b2c6-6aef1ce70173.dcm',\n",
              " '0b55aeff-b31c-479e-8035-c9a64144083e.dcm',\n",
              " '0b569b4c-107f-4bf4-9166-c4f51a9f881a.dcm',\n",
              " '0b574b43-d7ab-4d95-bf13-fded0fb11e43.dcm',\n",
              " '0b5a918a-5625-4659-a2fb-6baa4b55df9a.dcm',\n",
              " '0b5d9c4e-6394-4239-af74-1f51d623995d.dcm',\n",
              " '0b5fa34f-5c96-4cc5-becc-317acdff3221.dcm',\n",
              " '0b609c12-d05a-4cfe-8204-e0c75c300d0b.dcm',\n",
              " '0b63ee7f-9715-4a4a-a892-2ea49adbed2e.dcm',\n",
              " '0b652c84-50b1-4fa9-8704-94d90827c879.dcm',\n",
              " '0b667844-0121-4eed-9a95-b670061a7a83.dcm',\n",
              " '0b68b596-41bd-425f-a9f6-43b84071b567.dcm',\n",
              " '0b696cf6-dac9-4890-810c-0303e6e221bd.dcm',\n",
              " '0b6a3749-1937-461f-8232-7c1024468632.dcm',\n",
              " '0b6a3a33-e09f-4edd-baba-5bb9b34fe71d.dcm',\n",
              " '0b6a7730-a747-42ce-ac00-f3dcc34df307.dcm',\n",
              " '0b6acd03-8392-49a6-bf52-4543fb678a25.dcm',\n",
              " '0b6c6a3e-4eda-4886-9182-e0b686fd9e53.dcm',\n",
              " '0b71e171-37a0-4f7e-827f-c8250180bbf2.dcm',\n",
              " '0b728b53-0f52-44c0-bbeb-a05391cb9d31.dcm',\n",
              " '0b74faac-00a1-4958-9571-b5f7f9c52179.dcm',\n",
              " '0b754c5b-d5ee-4a2a-a6e0-c610568b676d.dcm',\n",
              " '0b7a4fb2-adab-484b-a0f7-23f5111bc745.dcm',\n",
              " '0b7b500f-b677-4c7b-8331-f24c3e8aa9e0.dcm',\n",
              " '0b7cfdd2-3fcb-43bc-86bd-5a880c7874bb.dcm',\n",
              " '0b7eaf33-4282-46fc-8488-b6ef8414fe21.dcm',\n",
              " '0b831874-10c4-4d8f-8d96-3de80a7add5b.dcm',\n",
              " '0b894021-d6bc-4d94-9839-721bfcb70f11.dcm',\n",
              " '0b8a7da2-6ae3-4a1f-ac14-44e1e0f6990c.dcm',\n",
              " '0b8ba576-7734-4192-ba1b-5618dd257f6b.dcm',\n",
              " '0b8c48a7-3158-4df1-b484-b6f677ff9612.dcm',\n",
              " '0b8d4689-aff3-472b-bad1-d12d648dbc2c.dcm',\n",
              " '0b8e3d9e-0bcd-41a3-b788-0175c43b2624.dcm',\n",
              " '0b8e881f-67bc-4021-a02c-0087233e43aa.dcm',\n",
              " '0b8f8765-0406-447c-b873-7ac5ce8884aa.dcm',\n",
              " '0b905a8b-9884-4f82-8e02-4577090678de.dcm',\n",
              " '0b92e1e9-78ae-4477-8b7e-f7cac9c79104.dcm',\n",
              " '0b9736d7-413f-4fe0-8ff3-163c290e2679.dcm',\n",
              " '0b974a07-7c7f-4826-913d-f5b0d5bd8142.dcm',\n",
              " '0b9f36a1-cc44-44f4-b500-cf1127fc71e6.dcm',\n",
              " '0ba09fda-b861-4f95-affd-773cfdddde5a.dcm',\n",
              " '0ba245bb-b2e4-49b1-8c63-576e38470708.dcm',\n",
              " '0ba96c88-a3ed-4f28-9981-36c340f4996b.dcm',\n",
              " '0baa6d29-66e3-40db-8aeb-5ebe80ddc8c8.dcm',\n",
              " '0bad22f7-1833-43bc-92ec-ac2aba6e1ef7.dcm',\n",
              " '0bad68b0-b67c-47c9-bb8b-b9513a326394.dcm',\n",
              " '0bae27f3-01d4-4223-adc5-d3264e0d9213.dcm',\n",
              " '0bb0dca8-127f-4793-849b-cf9d4a67a055.dcm',\n",
              " '0bb1cb0e-7377-407d-845e-dce144852d32.dcm',\n",
              " '0bb24183-8b59-48f1-8bbf-4d889976fc82.dcm',\n",
              " '0bb25b91-7683-40c0-a4ac-a4d1d1da6c8f.dcm',\n",
              " '0bb2c62d-1704-449f-8f78-f56e975f5240.dcm',\n",
              " '0bb3e7f7-bcb1-4dd5-b9ba-ce5c6eaa9ba0.dcm',\n",
              " '0bb67407-6d0b-4e7a-be1e-63aa02f9ad09.dcm',\n",
              " '0bb7b8e1-ffb4-4c6f-81aa-639e1d138a7f.dcm',\n",
              " '0bbb1ff7-dba6-4d5b-affe-b3ca0050d965.dcm',\n",
              " '0bbc209a-2a7a-43cb-8664-d6a337dee4a6.dcm',\n",
              " '0bbdddaa-499c-47cb-a6cc-a67faa4ec135.dcm',\n",
              " '0bbe0f92-940f-431a-b8c4-3b371ea7d9aa.dcm',\n",
              " '0bbf677c-7038-4bb9-a1b3-b41db928292c.dcm',\n",
              " '0bc28e7b-7097-4b84-b393-25cd12dc4cc6.dcm',\n",
              " '0bc32046-7369-4a87-b9d0-582526356cbf.dcm',\n",
              " '0bc55dd2-15ee-4f8e-94a1-df2e8dfffd89.dcm',\n",
              " '0bc7f47a-ecea-4b66-811e-096004721a63.dcm',\n",
              " '0bcb0834-efa8-4fcc-9082-4a2dd4506dc2.dcm',\n",
              " '0bcb73ad-aff9-4367-adfe-f9e87b229523.dcm',\n",
              " '0bcfe7ee-ada5-48de-990b-2a2fd6c6ed15.dcm',\n",
              " '0bd68d89-6a56-4b5e-b2f5-1be2d3665f97.dcm',\n",
              " '0bda6a44-f304-4ca3-874a-b9f29f73da05.dcm',\n",
              " '0bdc1ef9-6431-4164-9110-c26fe26ab2a9.dcm',\n",
              " '0bdcfa14-a0e9-444d-bb9e-48c6aa10f393.dcm',\n",
              " '0bddcc31-a167-48cd-bb25-d8de39719579.dcm',\n",
              " '0bdf0a38-17a9-42e0-935f-f9240e1fab77.dcm',\n",
              " '0bdf0bcb-7323-4aa4-ac61-dad3b1787acf.dcm',\n",
              " '0be1f228-74f9-49f2-836e-e3caa49c9fcb.dcm',\n",
              " '0be9dc1f-eff8-4813-bd77-b076fbfc537e.dcm',\n",
              " '0beab473-5df5-41b5-b737-85749bf77a44.dcm',\n",
              " '0beac0c9-331a-4aad-9cec-099aff98c399.dcm',\n",
              " '0bed2d9d-8a11-41d9-b312-41f8c93791f7.dcm',\n",
              " '0befe74c-5802-4fd4-aa1a-e5487d685558.dcm',\n",
              " '0bf10e67-5532-4177-bc48-c0cb545248b4.dcm',\n",
              " '0bf1767e-263b-443d-935f-489fe858922b.dcm',\n",
              " '0bf374b1-dd39-4549-b573-6e69af4dd0e9.dcm',\n",
              " '0bf44996-58da-4a12-8be1-da5c9b009975.dcm',\n",
              " '0bf4c667-6fb1-4943-8e6a-f80914cca147.dcm',\n",
              " '0bf4e2be-e95c-4e59-8cd4-db3def008067.dcm',\n",
              " '0bfe09c2-ce96-4cd4-9374-92117c18da3d.dcm',\n",
              " '0c00260e-8326-458d-9e91-a731488717b2.dcm',\n",
              " '0c009764-6986-449d-8bd6-63d2631918a6.dcm',\n",
              " '0c0181c0-c009-4387-b087-d314a4ffcba2.dcm',\n",
              " '0c03597a-dc89-4480-9412-dd2121411278.dcm',\n",
              " '0c049df6-5c1d-4460-8f66-2583e86364f6.dcm',\n",
              " '0c066cf2-d552-4843-b613-38a8bddddcd2.dcm',\n",
              " '0c0a5c4b-a671-4ff2-bdaf-3e272ef0750b.dcm',\n",
              " '0c0da1cf-9514-4c21-9988-fb53c52528d1.dcm',\n",
              " '0c0dbae5-b0a7-43b7-a964-11e6bcf40ae9.dcm',\n",
              " '0c0ee7f2-41b1-4d98-99b4-c9f98a82276a.dcm',\n",
              " '0c10d1c7-6f4e-4410-8327-dac459cff776.dcm',\n",
              " '0c119e49-629b-4507-9df6-4dd03327b89e.dcm',\n",
              " '0c122fd9-6dc8-4224-baae-812ed5c4bd12.dcm',\n",
              " '0c153d93-d65b-4d3e-90bc-8b26350e3476.dcm',\n",
              " '0c15e437-7eea-4ed1-b1d8-124f79cc1893.dcm',\n",
              " '0c166e46-6e25-4f59-9743-6c60828c7c77.dcm',\n",
              " '0c17944f-c5d6-4d88-9b77-a5f86d22447b.dcm',\n",
              " '0c1808e9-0af5-464b-8ce2-0518795a1272.dcm',\n",
              " '0c1822ea-5a61-4e64-97f7-ec1885d97fc2.dcm',\n",
              " '0c194bf2-0999-44d9-9c15-bfed223021de.dcm',\n",
              " '0c1b326c-93f9-44d5-b72e-20e2be51fd09.dcm',\n",
              " ...]"
            ]
          },
          "execution_count": 16,
          "metadata": {},
          "output_type": "execute_result"
        }
      ],
      "source": [
        "sorted(os.listdir('/data2/yinuo/rsna/stage_2_train_images/'))"
      ]
    },
    {
      "cell_type": "code",
      "execution_count": 17,
      "metadata": {
        "colab": {},
        "colab_type": "code",
        "id": "TjV7sFUgpmvm"
      },
      "outputs": [],
      "source": [
        "#sorting data by patientId\n",
        "\n",
        "directory = '/data2/yinuo/rsna/stage_2_train_images/'\n",
        "out_path = '/data2/yinuo/rsna/data_sorted/'\n",
        "for filename in sorted(os.listdir(directory)):\n",
        "  shutil.copy(directory + filename, out_path)\n",
        "    "
      ]
    },
    {
      "cell_type": "code",
      "execution_count": 18,
      "metadata": {
        "colab": {
          "base_uri": "https://localhost:8080/",
          "height": 34
        },
        "colab_type": "code",
        "id": "TopM269zkhsI",
        "outputId": "03559cde-dcbf-46d9-cd9e-2d44dd719242"
      },
      "outputs": [
        {
          "data": {
            "text/plain": [
              "26684"
            ]
          },
          "execution_count": 18,
          "metadata": {},
          "output_type": "execute_result"
        }
      ],
      "source": [
        "filename = next(os.walk('/data2/yinuo/rsna/data_sorted/'))[2]\n",
        "len(filename)"
      ]
    },
    {
      "cell_type": "code",
      "execution_count": 19,
      "metadata": {
        "colab": {
          "base_uri": "https://localhost:8080/",
          "height": 197
        },
        "colab_type": "code",
        "id": "8lmt9JOcwluP",
        "outputId": "7fd7c19f-5563-4e63-a135-05aad92d944e"
      },
      "outputs": [
        {
          "data": {
            "text/html": [
              "<div>\n",
              "<style scoped>\n",
              "    .dataframe tbody tr th:only-of-type {\n",
              "        vertical-align: middle;\n",
              "    }\n",
              "\n",
              "    .dataframe tbody tr th {\n",
              "        vertical-align: top;\n",
              "    }\n",
              "\n",
              "    .dataframe thead th {\n",
              "        text-align: right;\n",
              "    }\n",
              "</style>\n",
              "<table border=\"1\" class=\"dataframe\">\n",
              "  <thead>\n",
              "    <tr style=\"text-align: right;\">\n",
              "      <th></th>\n",
              "      <th>patientId</th>\n",
              "      <th>x</th>\n",
              "      <th>y</th>\n",
              "      <th>width</th>\n",
              "      <th>height</th>\n",
              "      <th>Target</th>\n",
              "    </tr>\n",
              "  </thead>\n",
              "  <tbody>\n",
              "    <tr>\n",
              "      <th>0</th>\n",
              "      <td>0004cfab-14fd-4e49-80ba-63a80b6bddd6</td>\n",
              "      <td>NaN</td>\n",
              "      <td>NaN</td>\n",
              "      <td>NaN</td>\n",
              "      <td>NaN</td>\n",
              "      <td>0</td>\n",
              "    </tr>\n",
              "    <tr>\n",
              "      <th>1</th>\n",
              "      <td>00313ee0-9eaa-42f4-b0ab-c148ed3241cd</td>\n",
              "      <td>NaN</td>\n",
              "      <td>NaN</td>\n",
              "      <td>NaN</td>\n",
              "      <td>NaN</td>\n",
              "      <td>0</td>\n",
              "    </tr>\n",
              "    <tr>\n",
              "      <th>2</th>\n",
              "      <td>00322d4d-1c29-4943-afc9-b6754be640eb</td>\n",
              "      <td>NaN</td>\n",
              "      <td>NaN</td>\n",
              "      <td>NaN</td>\n",
              "      <td>NaN</td>\n",
              "      <td>0</td>\n",
              "    </tr>\n",
              "    <tr>\n",
              "      <th>3</th>\n",
              "      <td>003d8fa0-6bf1-40ed-b54c-ac657f8495c5</td>\n",
              "      <td>NaN</td>\n",
              "      <td>NaN</td>\n",
              "      <td>NaN</td>\n",
              "      <td>NaN</td>\n",
              "      <td>0</td>\n",
              "    </tr>\n",
              "    <tr>\n",
              "      <th>4</th>\n",
              "      <td>00436515-870c-4b36-a041-de91049b9ab4</td>\n",
              "      <td>264.0</td>\n",
              "      <td>152.0</td>\n",
              "      <td>213.0</td>\n",
              "      <td>379.0</td>\n",
              "      <td>1</td>\n",
              "    </tr>\n",
              "  </tbody>\n",
              "</table>\n",
              "</div>"
            ],
            "text/plain": [
              "                              patientId      x      y  width  height  Target\n",
              "0  0004cfab-14fd-4e49-80ba-63a80b6bddd6    NaN    NaN    NaN     NaN       0\n",
              "1  00313ee0-9eaa-42f4-b0ab-c148ed3241cd    NaN    NaN    NaN     NaN       0\n",
              "2  00322d4d-1c29-4943-afc9-b6754be640eb    NaN    NaN    NaN     NaN       0\n",
              "3  003d8fa0-6bf1-40ed-b54c-ac657f8495c5    NaN    NaN    NaN     NaN       0\n",
              "4  00436515-870c-4b36-a041-de91049b9ab4  264.0  152.0  213.0   379.0       1"
            ]
          },
          "execution_count": 19,
          "metadata": {},
          "output_type": "execute_result"
        }
      ],
      "source": [
        "df.head()"
      ]
    },
    {
      "cell_type": "code",
      "execution_count": 20,
      "metadata": {
        "colab": {},
        "colab_type": "code",
        "id": "i-OZ47njwyJ_"
      },
      "outputs": [],
      "source": [
        "df.drop(columns=['x', 'y', 'width', 'height'], inplace=True)"
      ]
    },
    {
      "cell_type": "code",
      "execution_count": 21,
      "metadata": {
        "colab": {},
        "colab_type": "code",
        "id": "amRcQvJtw2wE"
      },
      "outputs": [],
      "source": [
        "df.sort_values('patientId', inplace=True)"
      ]
    },
    {
      "cell_type": "code",
      "execution_count": 22,
      "metadata": {
        "colab": {
          "base_uri": "https://localhost:8080/",
          "height": 197
        },
        "colab_type": "code",
        "id": "dOEGZFpip-uQ",
        "outputId": "6604c0af-4813-4a90-aaed-4dd1cd32b670"
      },
      "outputs": [
        {
          "data": {
            "text/html": [
              "<div>\n",
              "<style scoped>\n",
              "    .dataframe tbody tr th:only-of-type {\n",
              "        vertical-align: middle;\n",
              "    }\n",
              "\n",
              "    .dataframe tbody tr th {\n",
              "        vertical-align: top;\n",
              "    }\n",
              "\n",
              "    .dataframe thead th {\n",
              "        text-align: right;\n",
              "    }\n",
              "</style>\n",
              "<table border=\"1\" class=\"dataframe\">\n",
              "  <thead>\n",
              "    <tr style=\"text-align: right;\">\n",
              "      <th></th>\n",
              "      <th>patientId</th>\n",
              "      <th>Target</th>\n",
              "    </tr>\n",
              "  </thead>\n",
              "  <tbody>\n",
              "    <tr>\n",
              "      <th>0</th>\n",
              "      <td>0004cfab-14fd-4e49-80ba-63a80b6bddd6</td>\n",
              "      <td>0</td>\n",
              "    </tr>\n",
              "    <tr>\n",
              "      <th>28989</th>\n",
              "      <td>000924cf-0f8d-42bd-9158-1af53881a557</td>\n",
              "      <td>0</td>\n",
              "    </tr>\n",
              "    <tr>\n",
              "      <th>28990</th>\n",
              "      <td>000db696-cf54-4385-b10b-6b16fbb3f985</td>\n",
              "      <td>1</td>\n",
              "    </tr>\n",
              "    <tr>\n",
              "      <th>28991</th>\n",
              "      <td>000db696-cf54-4385-b10b-6b16fbb3f985</td>\n",
              "      <td>1</td>\n",
              "    </tr>\n",
              "    <tr>\n",
              "      <th>28992</th>\n",
              "      <td>000fe35a-2649-43d4-b027-e67796d412e0</td>\n",
              "      <td>1</td>\n",
              "    </tr>\n",
              "  </tbody>\n",
              "</table>\n",
              "</div>"
            ],
            "text/plain": [
              "                                  patientId  Target\n",
              "0      0004cfab-14fd-4e49-80ba-63a80b6bddd6       0\n",
              "28989  000924cf-0f8d-42bd-9158-1af53881a557       0\n",
              "28990  000db696-cf54-4385-b10b-6b16fbb3f985       1\n",
              "28991  000db696-cf54-4385-b10b-6b16fbb3f985       1\n",
              "28992  000fe35a-2649-43d4-b027-e67796d412e0       1"
            ]
          },
          "execution_count": 22,
          "metadata": {},
          "output_type": "execute_result"
        }
      ],
      "source": [
        "df.head()"
      ]
    },
    {
      "cell_type": "code",
      "execution_count": 23,
      "metadata": {
        "colab": {
          "base_uri": "https://localhost:8080/",
          "height": 34
        },
        "colab_type": "code",
        "id": "6KdlDvAUqOV4",
        "outputId": "c1d6f59c-08d9-4de8-fcc9-c95715832c0d"
      },
      "outputs": [
        {
          "data": {
            "text/plain": [
              "30227"
            ]
          },
          "execution_count": 23,
          "metadata": {},
          "output_type": "execute_result"
        }
      ],
      "source": [
        "len(df)"
      ]
    },
    {
      "cell_type": "code",
      "execution_count": 24,
      "metadata": {
        "colab": {
          "base_uri": "https://localhost:8080/",
          "height": 197
        },
        "colab_type": "code",
        "id": "sawwu3Lrw5Hq",
        "outputId": "f0aea1aa-516a-4269-c128-309b85992de7"
      },
      "outputs": [
        {
          "data": {
            "text/html": [
              "<div>\n",
              "<style scoped>\n",
              "    .dataframe tbody tr th:only-of-type {\n",
              "        vertical-align: middle;\n",
              "    }\n",
              "\n",
              "    .dataframe tbody tr th {\n",
              "        vertical-align: top;\n",
              "    }\n",
              "\n",
              "    .dataframe thead th {\n",
              "        text-align: right;\n",
              "    }\n",
              "</style>\n",
              "<table border=\"1\" class=\"dataframe\">\n",
              "  <thead>\n",
              "    <tr style=\"text-align: right;\">\n",
              "      <th></th>\n",
              "      <th>patientId</th>\n",
              "      <th>Target</th>\n",
              "    </tr>\n",
              "  </thead>\n",
              "  <tbody>\n",
              "    <tr>\n",
              "      <th>0</th>\n",
              "      <td>0004cfab-14fd-4e49-80ba-63a80b6bddd6</td>\n",
              "      <td>0</td>\n",
              "    </tr>\n",
              "    <tr>\n",
              "      <th>28989</th>\n",
              "      <td>000924cf-0f8d-42bd-9158-1af53881a557</td>\n",
              "      <td>0</td>\n",
              "    </tr>\n",
              "    <tr>\n",
              "      <th>28990</th>\n",
              "      <td>000db696-cf54-4385-b10b-6b16fbb3f985</td>\n",
              "      <td>1</td>\n",
              "    </tr>\n",
              "    <tr>\n",
              "      <th>28992</th>\n",
              "      <td>000fe35a-2649-43d4-b027-e67796d412e0</td>\n",
              "      <td>1</td>\n",
              "    </tr>\n",
              "    <tr>\n",
              "      <th>28994</th>\n",
              "      <td>001031d9-f904-4a23-b3e5-2c088acd19c6</td>\n",
              "      <td>1</td>\n",
              "    </tr>\n",
              "  </tbody>\n",
              "</table>\n",
              "</div>"
            ],
            "text/plain": [
              "                                  patientId  Target\n",
              "0      0004cfab-14fd-4e49-80ba-63a80b6bddd6       0\n",
              "28989  000924cf-0f8d-42bd-9158-1af53881a557       0\n",
              "28990  000db696-cf54-4385-b10b-6b16fbb3f985       1\n",
              "28992  000fe35a-2649-43d4-b027-e67796d412e0       1\n",
              "28994  001031d9-f904-4a23-b3e5-2c088acd19c6       1"
            ]
          },
          "execution_count": 24,
          "metadata": {},
          "output_type": "execute_result"
        }
      ],
      "source": [
        "df.drop_duplicates(subset='patientId', keep='first', inplace=True)\n",
        "df.head()"
      ]
    },
    {
      "cell_type": "code",
      "execution_count": 25,
      "metadata": {
        "colab": {
          "base_uri": "https://localhost:8080/",
          "height": 34
        },
        "colab_type": "code",
        "id": "xhQAVAD9qNQm",
        "outputId": "a3c25775-a307-4d1f-ed3c-5b835268cf13"
      },
      "outputs": [
        {
          "data": {
            "text/plain": [
              "26684"
            ]
          },
          "execution_count": 25,
          "metadata": {},
          "output_type": "execute_result"
        }
      ],
      "source": [
        "len(df)"
      ]
    },
    {
      "cell_type": "code",
      "execution_count": 26,
      "metadata": {
        "colab": {
          "base_uri": "https://localhost:8080/",
          "height": 197
        },
        "colab_type": "code",
        "id": "kuSxBBnk3TgW",
        "outputId": "9f7e2fc5-707d-4749-ad46-c2647a809c49"
      },
      "outputs": [
        {
          "data": {
            "text/html": [
              "<div>\n",
              "<style scoped>\n",
              "    .dataframe tbody tr th:only-of-type {\n",
              "        vertical-align: middle;\n",
              "    }\n",
              "\n",
              "    .dataframe tbody tr th {\n",
              "        vertical-align: top;\n",
              "    }\n",
              "\n",
              "    .dataframe thead th {\n",
              "        text-align: right;\n",
              "    }\n",
              "</style>\n",
              "<table border=\"1\" class=\"dataframe\">\n",
              "  <thead>\n",
              "    <tr style=\"text-align: right;\">\n",
              "      <th></th>\n",
              "      <th>patientId</th>\n",
              "      <th>Target</th>\n",
              "    </tr>\n",
              "  </thead>\n",
              "  <tbody>\n",
              "    <tr>\n",
              "      <th>0</th>\n",
              "      <td>0004cfab-14fd-4e49-80ba-63a80b6bddd6</td>\n",
              "      <td>0</td>\n",
              "    </tr>\n",
              "    <tr>\n",
              "      <th>28989</th>\n",
              "      <td>000924cf-0f8d-42bd-9158-1af53881a557</td>\n",
              "      <td>0</td>\n",
              "    </tr>\n",
              "    <tr>\n",
              "      <th>28990</th>\n",
              "      <td>000db696-cf54-4385-b10b-6b16fbb3f985</td>\n",
              "      <td>1</td>\n",
              "    </tr>\n",
              "    <tr>\n",
              "      <th>28992</th>\n",
              "      <td>000fe35a-2649-43d4-b027-e67796d412e0</td>\n",
              "      <td>1</td>\n",
              "    </tr>\n",
              "    <tr>\n",
              "      <th>28994</th>\n",
              "      <td>001031d9-f904-4a23-b3e5-2c088acd19c6</td>\n",
              "      <td>1</td>\n",
              "    </tr>\n",
              "  </tbody>\n",
              "</table>\n",
              "</div>"
            ],
            "text/plain": [
              "                                  patientId  Target\n",
              "0      0004cfab-14fd-4e49-80ba-63a80b6bddd6       0\n",
              "28989  000924cf-0f8d-42bd-9158-1af53881a557       0\n",
              "28990  000db696-cf54-4385-b10b-6b16fbb3f985       1\n",
              "28992  000fe35a-2649-43d4-b027-e67796d412e0       1\n",
              "28994  001031d9-f904-4a23-b3e5-2c088acd19c6       1"
            ]
          },
          "execution_count": 26,
          "metadata": {},
          "output_type": "execute_result"
        }
      ],
      "source": [
        "df.head()"
      ]
    },
    {
      "cell_type": "code",
      "execution_count": 27,
      "metadata": {
        "colab": {
          "base_uri": "https://localhost:8080/",
          "height": 34
        },
        "colab_type": "code",
        "id": "gk6DuJnLtmsp",
        "outputId": "200b94f6-115c-4293-cc69-7bdd36d5c953"
      },
      "outputs": [
        {
          "data": {
            "text/plain": [
              "'5352be11-df67-4929-a91a-9412dcb54e2b.dcm'"
            ]
          },
          "execution_count": 27,
          "metadata": {},
          "output_type": "execute_result"
        }
      ],
      "source": [
        "os.listdir('/data2/yinuo/rsna/data_sorted/')[0]"
      ]
    },
    {
      "cell_type": "markdown",
      "metadata": {
        "colab_type": "text",
        "id": "slfj8TnDxEKl"
      },
      "source": [
        "# Splitting data into train and validation"
      ]
    },
    {
      "cell_type": "code",
      "execution_count": 40,
      "metadata": {
        "colab": {},
        "colab_type": "code",
        "id": "AV3yWI80w7UC"
      },
      "outputs": [],
      "source": [
        "#splitting into train\n",
        "\n",
        "directory = '/data2/yinuo/rsna/data_sorted/'\n",
        "train_path = '/data2/yinuo/rsna/Train/'\n",
        "for filename in sorted(os.listdir(directory))[: 18679]:\n",
        "  shutil.copy(directory + filename, train_path)\n",
        "    "
      ]
    },
    {
      "cell_type": "code",
      "execution_count": 41,
      "metadata": {
        "colab": {
          "base_uri": "https://localhost:8080/",
          "height": 34
        },
        "colab_type": "code",
        "id": "PkR0tAEHx8sX",
        "outputId": "4d410e38-f497-4fbb-c169-1dda91dfaa4c"
      },
      "outputs": [
        {
          "data": {
            "text/plain": [
              "18679"
            ]
          },
          "execution_count": 41,
          "metadata": {},
          "output_type": "execute_result"
        }
      ],
      "source": [
        "import os\n",
        "filesNum = next(os.walk('/data2/yinuo/rsna/Train/'))[2]\n",
        "len(filesNum)"
      ]
    },
    {
      "cell_type": "code",
      "execution_count": 50,
      "metadata": {
        "colab": {},
        "colab_type": "code",
        "id": "1iidjModxoGe"
      },
      "outputs": [],
      "source": [
        "#splitting into validation\n",
        "\n",
        "val_path = '/data2/yinuo/rsna/Val/'\n",
        "\n",
        "for filename in sorted(os.listdir(directory))[18679: 22681]:\n",
        "  shutil.copy(directory + filename, val_path)"
      ]
    },
    {
      "cell_type": "code",
      "execution_count": 51,
      "metadata": {
        "colab": {
          "base_uri": "https://localhost:8080/",
          "height": 34
        },
        "colab_type": "code",
        "id": "-3ka9VpRyM1c",
        "outputId": "ceeebd0e-6ee7-4435-9a43-96f9c75a80f2"
      },
      "outputs": [
        {
          "data": {
            "text/plain": [
              "4002"
            ]
          },
          "execution_count": 51,
          "metadata": {},
          "output_type": "execute_result"
        }
      ],
      "source": [
        "import os\n",
        "filesNum = next(os.walk('/data2/yinuo/rsna/Val/'))[2]\n",
        "len(filesNum)"
      ]
    },
    {
      "cell_type": "code",
      "execution_count": 52,
      "metadata": {},
      "outputs": [],
      "source": [
        "#splitting into test\n",
        "\n",
        "test_path = '/data2/yinuo/rsna/Test/'\n",
        "\n",
        "for filename in sorted(os.listdir(directory))[22681: ]:\n",
        "  shutil.copy(directory + filename, test_path)"
      ]
    },
    {
      "cell_type": "code",
      "execution_count": 53,
      "metadata": {},
      "outputs": [
        {
          "data": {
            "text/plain": [
              "4003"
            ]
          },
          "execution_count": 53,
          "metadata": {},
          "output_type": "execute_result"
        }
      ],
      "source": [
        "import os\n",
        "filesNum = next(os.walk('/data2/yinuo/rsna/Test/'))[2]\n",
        "len(filesNum)"
      ]
    },
    {
      "cell_type": "code",
      "execution_count": 34,
      "metadata": {
        "colab": {},
        "colab_type": "code",
        "id": "zzP9t9dZuHMX"
      },
      "outputs": [],
      "source": [
        "df_train = pd.DataFrame()\n",
        "df_train = df.iloc[:18679]\n",
        "df_train.to_csv('train.csv')"
      ]
    },
    {
      "cell_type": "code",
      "execution_count": 35,
      "metadata": {
        "colab": {
          "base_uri": "https://localhost:8080/",
          "height": 215
        },
        "colab_type": "code",
        "id": "l_Ve7UMPE4yb",
        "outputId": "524e8aba-3e1e-4655-95f3-62edf3b7f661"
      },
      "outputs": [
        {
          "name": "stdout",
          "output_type": "stream",
          "text": [
            "18679\n"
          ]
        },
        {
          "data": {
            "text/html": [
              "<div>\n",
              "<style scoped>\n",
              "    .dataframe tbody tr th:only-of-type {\n",
              "        vertical-align: middle;\n",
              "    }\n",
              "\n",
              "    .dataframe tbody tr th {\n",
              "        vertical-align: top;\n",
              "    }\n",
              "\n",
              "    .dataframe thead th {\n",
              "        text-align: right;\n",
              "    }\n",
              "</style>\n",
              "<table border=\"1\" class=\"dataframe\">\n",
              "  <thead>\n",
              "    <tr style=\"text-align: right;\">\n",
              "      <th></th>\n",
              "      <th>patientId</th>\n",
              "      <th>Target</th>\n",
              "    </tr>\n",
              "  </thead>\n",
              "  <tbody>\n",
              "    <tr>\n",
              "      <th>0</th>\n",
              "      <td>0004cfab-14fd-4e49-80ba-63a80b6bddd6</td>\n",
              "      <td>0</td>\n",
              "    </tr>\n",
              "    <tr>\n",
              "      <th>28989</th>\n",
              "      <td>000924cf-0f8d-42bd-9158-1af53881a557</td>\n",
              "      <td>0</td>\n",
              "    </tr>\n",
              "    <tr>\n",
              "      <th>28990</th>\n",
              "      <td>000db696-cf54-4385-b10b-6b16fbb3f985</td>\n",
              "      <td>1</td>\n",
              "    </tr>\n",
              "    <tr>\n",
              "      <th>28992</th>\n",
              "      <td>000fe35a-2649-43d4-b027-e67796d412e0</td>\n",
              "      <td>1</td>\n",
              "    </tr>\n",
              "    <tr>\n",
              "      <th>28994</th>\n",
              "      <td>001031d9-f904-4a23-b3e5-2c088acd19c6</td>\n",
              "      <td>1</td>\n",
              "    </tr>\n",
              "  </tbody>\n",
              "</table>\n",
              "</div>"
            ],
            "text/plain": [
              "                                  patientId  Target\n",
              "0      0004cfab-14fd-4e49-80ba-63a80b6bddd6       0\n",
              "28989  000924cf-0f8d-42bd-9158-1af53881a557       0\n",
              "28990  000db696-cf54-4385-b10b-6b16fbb3f985       1\n",
              "28992  000fe35a-2649-43d4-b027-e67796d412e0       1\n",
              "28994  001031d9-f904-4a23-b3e5-2c088acd19c6       1"
            ]
          },
          "execution_count": 35,
          "metadata": {},
          "output_type": "execute_result"
        }
      ],
      "source": [
        "print(len(df_train))\n",
        "df_train.head()"
      ]
    },
    {
      "cell_type": "code",
      "execution_count": 36,
      "metadata": {
        "colab": {},
        "colab_type": "code",
        "id": "YvPe8mYKuJ0z"
      },
      "outputs": [],
      "source": [
        "df_val = pd.DataFrame()\n",
        "df_val = df.iloc[18679:22681]\n",
        "df_val.to_csv('val.csv')\n",
        "\n",
        "df_test = pd.DataFrame()\n",
        "df_test = df.iloc[22681:]\n",
        "df_test.to_csv('test.csv')"
      ]
    },
    {
      "cell_type": "code",
      "execution_count": 37,
      "metadata": {
        "colab": {
          "base_uri": "https://localhost:8080/",
          "height": 215
        },
        "colab_type": "code",
        "id": "wY2j1TM0FBxN",
        "outputId": "15cdb4ba-645c-4bae-fd31-c92f323faa5d"
      },
      "outputs": [
        {
          "name": "stdout",
          "output_type": "stream",
          "text": [
            "4003\n"
          ]
        },
        {
          "data": {
            "text/html": [
              "<div>\n",
              "<style scoped>\n",
              "    .dataframe tbody tr th:only-of-type {\n",
              "        vertical-align: middle;\n",
              "    }\n",
              "\n",
              "    .dataframe tbody tr th {\n",
              "        vertical-align: top;\n",
              "    }\n",
              "\n",
              "    .dataframe thead th {\n",
              "        text-align: right;\n",
              "    }\n",
              "</style>\n",
              "<table border=\"1\" class=\"dataframe\">\n",
              "  <thead>\n",
              "    <tr style=\"text-align: right;\">\n",
              "      <th></th>\n",
              "      <th>patientId</th>\n",
              "      <th>Target</th>\n",
              "    </tr>\n",
              "  </thead>\n",
              "  <tbody>\n",
              "    <tr>\n",
              "      <th>24716</th>\n",
              "      <td>ddfcc1a2-9c25-44c8-9b00-c927c1f2369e</td>\n",
              "      <td>0</td>\n",
              "    </tr>\n",
              "    <tr>\n",
              "      <th>24717</th>\n",
              "      <td>ddfce2d3-f6aa-4771-8718-1fba8c3add1d</td>\n",
              "      <td>0</td>\n",
              "    </tr>\n",
              "    <tr>\n",
              "      <th>24718</th>\n",
              "      <td>ddff3a86-77a1-4a9c-b7cf-2ec5ef401d8a</td>\n",
              "      <td>0</td>\n",
              "    </tr>\n",
              "    <tr>\n",
              "      <th>24719</th>\n",
              "      <td>de021bc5-eacc-4c73-a8c2-7f98d5467c52</td>\n",
              "      <td>1</td>\n",
              "    </tr>\n",
              "    <tr>\n",
              "      <th>24720</th>\n",
              "      <td>de04a499-1e5c-4a5a-becd-4c6069a7e518</td>\n",
              "      <td>0</td>\n",
              "    </tr>\n",
              "  </tbody>\n",
              "</table>\n",
              "</div>"
            ],
            "text/plain": [
              "                                  patientId  Target\n",
              "24716  ddfcc1a2-9c25-44c8-9b00-c927c1f2369e       0\n",
              "24717  ddfce2d3-f6aa-4771-8718-1fba8c3add1d       0\n",
              "24718  ddff3a86-77a1-4a9c-b7cf-2ec5ef401d8a       0\n",
              "24719  de021bc5-eacc-4c73-a8c2-7f98d5467c52       1\n",
              "24720  de04a499-1e5c-4a5a-becd-4c6069a7e518       0"
            ]
          },
          "execution_count": 37,
          "metadata": {},
          "output_type": "execute_result"
        }
      ],
      "source": [
        "print(len(df_test))\n",
        "df_test.head()"
      ]
    },
    {
      "cell_type": "markdown",
      "metadata": {
        "colab_type": "text",
        "id": "AdQfjOT1yiX6"
      },
      "source": [
        "# Converting data into PNG format"
      ]
    },
    {
      "cell_type": "code",
      "execution_count": 56,
      "metadata": {
        "colab": {},
        "colab_type": "code",
        "id": "bPRayRHGy1Tf"
      },
      "outputs": [],
      "source": [
        "#converting the training data\n",
        "import pydicom\n",
        "\n",
        "inputdir = '/data2/yinuo/rsna/Train/'\n",
        "outdir = '/data2/yinuo/rsna/train/'\n",
        "\n",
        "train_list = [ f for f in  sorted(os.listdir(inputdir))]\n",
        "\n",
        "for f in train_list: \n",
        "    ds = pydicom.read_file(inputdir + f, force=True) # read dicom image\n",
        "    img = ds.pixel_array # get image array\n",
        "    cv2.imwrite(outdir + f.replace('.dcm','.png'),img) # write png image"
      ]
    },
    {
      "cell_type": "code",
      "execution_count": 57,
      "metadata": {
        "colab": {
          "base_uri": "https://localhost:8080/",
          "height": 34
        },
        "colab_type": "code",
        "id": "kPiPFX_ZzdO3",
        "outputId": "dc80d4c7-d4ad-4b9a-81b3-5ac699daafe8"
      },
      "outputs": [
        {
          "data": {
            "text/plain": [
              "18679"
            ]
          },
          "execution_count": 57,
          "metadata": {},
          "output_type": "execute_result"
        }
      ],
      "source": [
        "import os\n",
        "filesNum = next(os.walk('/data2/yinuo/rsna/train/'))[2]\n",
        "len(filesNum)"
      ]
    },
    {
      "cell_type": "code",
      "execution_count": 58,
      "metadata": {
        "colab": {},
        "colab_type": "code",
        "id": "Kw246cuTzHzY"
      },
      "outputs": [],
      "source": [
        "#converting the validation data\n",
        "\n",
        "inputdir = '/data2/yinuo/rsna/Val/'\n",
        "outdir = '/data2/yinuo/rsna/val/'\n",
        "\n",
        "test_list = [ f for f in  sorted(os.listdir(inputdir))]\n",
        "\n",
        "for f in test_list:\n",
        "    ds = pydicom.read_file(inputdir + f, force=True) # read dicom image\n",
        "    img = ds.pixel_array # get image array\n",
        "    cv2.imwrite(outdir + f.replace('.dcm','.png'),img) # write png image"
      ]
    },
    {
      "cell_type": "code",
      "execution_count": 59,
      "metadata": {},
      "outputs": [],
      "source": [
        "#converting the test data\n",
        "\n",
        "inputdir = '/data2/yinuo/rsna/Test/'\n",
        "outdir = '/data2/yinuo/rsna/test/'\n",
        "\n",
        "test_list = [ f for f in  sorted(os.listdir(inputdir))]\n",
        "\n",
        "for f in test_list:\n",
        "    ds = pydicom.read_file(inputdir + f, force=True) # read dicom image\n",
        "    img = ds.pixel_array # get image array\n",
        "    cv2.imwrite(outdir + f.replace('.dcm','.png'),img) # write png image"
      ]
    },
    {
      "cell_type": "code",
      "execution_count": 60,
      "metadata": {
        "colab": {
          "base_uri": "https://localhost:8080/",
          "height": 34
        },
        "colab_type": "code",
        "id": "_zRWTW3gzgo2",
        "outputId": "11e20cc5-5eab-48bc-a5a7-f0c55ba333ad"
      },
      "outputs": [
        {
          "data": {
            "text/plain": [
              "4003"
            ]
          },
          "execution_count": 60,
          "metadata": {},
          "output_type": "execute_result"
        }
      ],
      "source": [
        "import os\n",
        "filesNum = next(os.walk('/data2/yinuo/rsna/test/'))[2]\n",
        "len(filesNum)"
      ]
    },
    {
      "cell_type": "markdown",
      "metadata": {
        "colab_type": "text",
        "id": "PNTM7o-q2cCf"
      },
      "source": [
        "# Creating custome dataloader and transforms in PyTorch"
      ]
    },
    {
      "cell_type": "code",
      "execution_count": 61,
      "metadata": {
        "colab": {},
        "colab_type": "code",
        "id": "OLCrM6Xc1EJb"
      },
      "outputs": [
        {
          "name": "stderr",
          "output_type": "stream",
          "text": [
            "/home/cihangxie/.conda/envs/yinuo/lib/python3.8/site-packages/tqdm/auto.py:22: TqdmWarning: IProgress not found. Please update jupyter and ipywidgets. See https://ipywidgets.readthedocs.io/en/stable/user_install.html\n",
            "  from .autonotebook import tqdm as notebook_tqdm\n"
          ]
        }
      ],
      "source": [
        "import torch\n",
        "import torchvision.models as models\n",
        "import torch.nn as nn\n",
        "import torch.nn.functional as F\n",
        "from collections import OrderedDict\n",
        "import torch.optim as optim\n",
        "from torchvision import datasets, transforms\n",
        "from torch.utils.data import Dataset, DataLoader\n",
        "from PIL import Image"
      ]
    },
    {
      "cell_type": "code",
      "execution_count": 62,
      "metadata": {
        "colab": {},
        "colab_type": "code",
        "id": "8oWNPsRXEiyB"
      },
      "outputs": [],
      "source": [
        "class RSNA(Dataset):\n",
        "    def __init__(self, csv_file, id_col, target_col, root_dir, sufix=None, transform=None):\n",
        "        \"\"\"\n",
        "        Args:\n",
        "            csv_file   (string):             Path to the csv file with annotations.\n",
        "            root_dir   (string):             Directory with all the images.\n",
        "            id_col     (string):             csv id column name.\n",
        "            target_col (string):             csv target column name.\n",
        "            sufix      (string, optional):   Optional sufix for samples.\n",
        "            transform  (callable, optional): Optional transform to be applied on a sample.\n",
        "        \"\"\"\n",
        "        self.data      = pd.read_csv(csv_file)\n",
        "        self.id        = id_col\n",
        "        #self.target    = target_col\n",
        "        self.label_arr = np.asarray(self.data.iloc[:, -1])\n",
        "        self.root      = root_dir\n",
        "        self.sufix     = sufix\n",
        "        self.transform = transform\n",
        "\n",
        "    def __len__(self):\n",
        "        return len(self.data)\n",
        "\n",
        "    def __getitem__(self, idx):\n",
        "        # get the image name at the different idx\n",
        "        img_name = self.data.loc[idx, self.id]\n",
        "        \n",
        "        # if there is not sufic, nothing happened. in this case sufix is '.jpg'\n",
        "        if self.sufix is not None:\n",
        "            img_name = img_name + self.sufix\n",
        "        \n",
        "        # it opens the image of the img_name at the specific idx\n",
        "        image = Image.open(os.path.join(self.root, img_name + '.png'))\n",
        "        \n",
        "        # if there is not transform nothing happens, here we defined below two transforms for train and for test\n",
        "        if self.transform is not None:\n",
        "            image = self.transform(image)\n",
        "        \n",
        "        # define the label based on the idx\n",
        "        label = self.label_arr[idx]\n",
        "        \n",
        "        return image, label"
      ]
    },
    {
      "cell_type": "code",
      "execution_count": 63,
      "metadata": {
        "colab": {},
        "colab_type": "code",
        "id": "mUdtmZPJ3Ywr"
      },
      "outputs": [],
      "source": [
        "\n",
        "data_trans = transforms.Compose([transforms.Resize(128),\n",
        "                                 transforms.RandomHorizontalFlip(),\n",
        "                                 transforms.ToTensor()\n",
        "])\n",
        "\n",
        "\n",
        "data_trans_val = transforms.Compose([transforms.Resize(128),\n",
        "                                 transforms.ToTensor()\n",
        "])\n"
      ]
    },
    {
      "cell_type": "markdown",
      "metadata": {
        "colab_type": "text",
        "id": "PDIt46Rn49d3"
      },
      "source": [
        "# Appling transformation"
      ]
    },
    {
      "cell_type": "code",
      "execution_count": 65,
      "metadata": {
        "colab": {},
        "colab_type": "code",
        "id": "evPm_ATs3vK7"
      },
      "outputs": [],
      "source": [
        "# transforming training data\n",
        "train_dataset = RSNA(csv_file='/data2/yinuo/rsna/train.csv',\n",
        "                           id_col = 'patientId',\n",
        "                           target_col = 'Target',\n",
        "                           root_dir='/data2/yinuo/rsna/train/',\n",
        "                           transform=data_trans)\n"
      ]
    },
    {
      "cell_type": "code",
      "execution_count": 66,
      "metadata": {
        "colab": {},
        "colab_type": "code",
        "id": "VeScQrAk-TNt"
      },
      "outputs": [],
      "source": [
        "# transforming validation data\n",
        "val_dataset = RSNA(csv_file='/data2/yinuo/rsna/val.csv',\n",
        "                         id_col = 'patientId',\n",
        "                         target_col = 'Target',\n",
        "                         root_dir = '/data2/yinuo/rsna/val/',\n",
        "                         transform=data_trans_val)\n"
      ]
    },
    {
      "cell_type": "code",
      "execution_count": 67,
      "metadata": {
        "colab": {},
        "colab_type": "code",
        "id": "GbpgJUkPBIpa"
      },
      "outputs": [],
      "source": [
        "loaders_scratch = {'train' : DataLoader(train_dataset,batch_size = 50, num_workers = 4, shuffle=True),\n",
        "                    'valid' : DataLoader(val_dataset,batch_size = 50, num_workers = 4)}"
      ]
    },
    {
      "cell_type": "markdown",
      "metadata": {
        "colab_type": "text",
        "id": "bHCcNx38_QIZ"
      },
      "source": [
        "# CNN Architecture"
      ]
    },
    {
      "cell_type": "code",
      "execution_count": null,
      "metadata": {
        "colab": {
          "base_uri": "https://localhost:8080/",
          "height": 301
        },
        "colab_type": "code",
        "id": "g5gaVOKa-TxF",
        "outputId": "abd729d6-2d22-4f87-8dd4-7c4b6327ff93"
      },
      "outputs": [
        {
          "data": {
            "text/plain": [
              "Sequential(\n",
              "  (conv1): Conv2d(1, 8, kernel_size=(4, 4), stride=(1, 1))\n",
              "  (relu1): ReLU()\n",
              "  (maxpool1): MaxPool2d(kernel_size=2, stride=2, padding=0, dilation=1, ceil_mode=False)\n",
              "  (batchnorm1): BatchNorm2d(8, eps=1e-05, momentum=0.1, affine=True, track_running_stats=True)\n",
              "  (conv2): Conv2d(8, 16, kernel_size=(2, 2), stride=(1, 1))\n",
              "  (relu2): ReLU()\n",
              "  (maxpool2): MaxPool2d(kernel_size=2, stride=2, padding=0, dilation=1, ceil_mode=False)\n",
              "  (batchnorm2): BatchNorm2d(16, eps=1e-05, momentum=0.1, affine=True, track_running_stats=True)\n",
              "  (dropout1): Dropout2d(p=0.25, inplace=False)\n",
              "  (flatten): Flatten()\n",
              "  (fc1): Linear(in_features=14400, out_features=1000, bias=True)\n",
              "  (relu3): ReLU()\n",
              "  (dropout2): Dropout(p=0.5, inplace=False)\n",
              "  (fc2): Linear(in_features=1000, out_features=2, bias=True)\n",
              ")"
            ]
          },
          "execution_count": 26,
          "metadata": {
            "tags": []
          },
          "output_type": "execute_result"
        }
      ],
      "source": [
        "model = nn.Sequential(OrderedDict([\n",
        "                      ('conv1', nn.Conv2d(1, 8, kernel_size=4, stride=1)),\n",
        "                      ('relu1', nn.ReLU()),\n",
        "                      ('maxpool1', nn.MaxPool2d(2,stride=2)),\n",
        "                      ('batchnorm1', nn.BatchNorm2d(8)),\n",
        "                      ('conv2', nn.Conv2d(8, 16, kernel_size=2)),\n",
        "                      ('relu2', nn.ReLU()),\n",
        "                      ('maxpool2', nn.MaxPool2d(2)),\n",
        "                      ('batchnorm2', nn.BatchNorm2d(16)),\n",
        "                      ('dropout1', nn.Dropout2d(.25)),\n",
        "                      ('flatten', nn.Flatten()),\n",
        "                      ('fc1', nn.Linear(14400, 1000)),\n",
        "                      ('relu3', nn.ReLU()),\n",
        "                      ('dropout2', nn.Dropout(.5)),\n",
        "                      ('fc2', nn.Linear(1000, 2))\n",
        "]))\n",
        "\n",
        "model\n",
        "#16384"
      ]
    },
    {
      "cell_type": "code",
      "execution_count": null,
      "metadata": {
        "colab": {},
        "colab_type": "code",
        "id": "Ns-7NvNy-TMT"
      },
      "outputs": [],
      "source": [
        "criterion_scratch = nn.CrossEntropyLoss()\n",
        "optimizer_scratch = optim.Adam(model.parameters(), lr=.001)"
      ]
    },
    {
      "cell_type": "markdown",
      "metadata": {
        "colab_type": "text",
        "id": "5MJ3jhxY_v1e"
      },
      "source": [
        "# Training"
      ]
    },
    {
      "cell_type": "code",
      "execution_count": null,
      "metadata": {
        "colab": {},
        "colab_type": "code",
        "id": "8ulsqphC-TK4"
      },
      "outputs": [],
      "source": [
        "def train(n_epochs, loaders, model, optimizer, criterion, use_cuda, save_path):\n",
        "    \"\"\"returns trained model\"\"\"\n",
        "    correct = 0.\n",
        "    total = 0.\n",
        "    # initialize tracker for minimum validation loss\n",
        "    valid_loss_min = np.Inf \n",
        "    \n",
        "    for epoch in range(1, n_epochs+1):\n",
        "        # initialize variables to monitor training and validation loss\n",
        "        train_loss = 0.0\n",
        "        valid_loss = 0.0\n",
        "        \n",
        "        ###################\n",
        "        # train the model #\n",
        "        ###################\n",
        "        model.train()\n",
        "        for data, target in loaders['train']:\n",
        "            #print(data.shape)\n",
        "            #print(target.shape)\n",
        "            #print(target)\n",
        "            # move to GPU\n",
        "            if use_cuda:\n",
        "                data, target = data.cuda(), target.cuda()\n",
        "            ## find the loss and update the model parameters accordingly\n",
        "            ## record the average training loss, using something like            \n",
        "            # clear the gradients of all optimized variables\n",
        "            optimizer.zero_grad()\n",
        "            # forward pass: compute predicted outputs by passing inputs to the model\n",
        "            output = model(data)\n",
        "            #print(output.shape)\n",
        "            # calculate the batch loss\n",
        "            loss = criterion(output, target)\n",
        "            # backward pass: compute gradient of the loss with respect to model parameters\n",
        "            loss.backward()\n",
        "            # perform a single optimization step (parameter update)\n",
        "            optimizer.step()\n",
        "            # update training loss\n",
        "            train_loss += loss.item()*data.size(0)\n",
        "            ###\n",
        "            \n",
        "        ######################    \n",
        "        # validate the model #\n",
        "        ######################\n",
        "        model.eval()\n",
        "\n",
        "        for data, target in loaders['valid']:\n",
        "            # move to GPU\n",
        "            if use_cuda:\n",
        "                data, target = data.cuda(), target.cuda()\n",
        "            ## update the average validation loss\n",
        "            \n",
        "            ###\n",
        "            # forward pass: compute predicted outputs by passing inputs to the model\n",
        "            output = model(data)\n",
        "            # calculate the batch loss\n",
        "            loss = criterion(output, target)\n",
        "            # update average validation loss \n",
        "            valid_loss += loss.item()*data.size(0)\n",
        "\n",
        "            # convert output probabilities to predicted class\n",
        "            pred = output.data.max(1, keepdim=True)[1]\n",
        "            # compare predictions to true label\n",
        "            correct += np.sum(np.squeeze(pred.eq(target.data.view_as(pred))).cpu().numpy())\n",
        "            total += data.size(0)\n",
        "            ###\n",
        "        train_loss = train_loss/len(loaders['train'].dataset) ###\n",
        "        valid_loss = valid_loss/len(loaders['valid'].dataset) ###\n",
        "\n",
        "            \n",
        "        # print training/validation statistics \n",
        "        print('Epoch: {} \\tTraining Loss: {:.6f} \\tValidation Loss: {:.6f}'.format(\n",
        "            epoch, \n",
        "            train_loss,\n",
        "            valid_loss\n",
        "            ))\n",
        "        \n",
        "        #print acc\n",
        "        print('\\nTest Accuracy: %2d%%' % (\n",
        "        100. * correct / total))\n",
        "\n",
        "        ##save the model if validation loss has decreased\n",
        "        if valid_loss <= valid_loss_min:\n",
        "            print('Validation loss decreased ({:.6f} --> {:.6f}).  Saving model ...'.format(\n",
        "            valid_loss_min,\n",
        "            valid_loss))\n",
        "            torch.save(model.state_dict(), save_path)\n",
        "            valid_loss_min = valid_loss\n",
        "            \n",
        "    # return trained model\n",
        "    return model\n",
        "\n",
        "\n"
      ]
    },
    {
      "cell_type": "code",
      "execution_count": null,
      "metadata": {
        "colab": {},
        "colab_type": "code",
        "id": "7m9hUb0ECXyV"
      },
      "outputs": [],
      "source": [
        "use_cuda = torch.cuda.is_available()\n",
        "if use_cuda:\n",
        "    model.cuda()"
      ]
    },
    {
      "cell_type": "code",
      "execution_count": null,
      "metadata": {
        "colab": {
          "base_uri": "https://localhost:8080/",
          "height": 390
        },
        "colab_type": "code",
        "id": "m4Ppk6hd-TJb",
        "outputId": "d7d458b2-cab5-467c-ba03-2d7f7a4a2b5e"
      },
      "outputs": [
        {
          "name": "stdout",
          "output_type": "stream",
          "text": [
            "Epoch: 1 \tTraining Loss: 0.570142 \tValidation Loss: 0.452848\n",
            "\n",
            "Test Accuracy: 86%\n",
            "Validation loss decreased (inf --> 0.452848).  Saving model ...\n",
            "Epoch: 2 \tTraining Loss: 0.567656 \tValidation Loss: 0.452549\n",
            "\n",
            "Test Accuracy: 86%\n",
            "Validation loss decreased (0.452848 --> 0.452549).  Saving model ...\n",
            "Epoch: 3 \tTraining Loss: 0.567485 \tValidation Loss: 0.452250\n",
            "\n",
            "Test Accuracy: 86%\n",
            "Validation loss decreased (0.452549 --> 0.452250).  Saving model ...\n",
            "Epoch: 4 \tTraining Loss: 0.567411 \tValidation Loss: 0.452250\n",
            "\n",
            "Test Accuracy: 86%\n",
            "Validation loss decreased (0.452250 --> 0.452250).  Saving model ...\n",
            "Epoch: 5 \tTraining Loss: 0.567411 \tValidation Loss: 0.452250\n",
            "\n",
            "Test Accuracy: 86%\n",
            "Validation loss decreased (0.452250 --> 0.452250).  Saving model ...\n"
          ]
        },
        {
          "data": {
            "text/plain": [
              "<All keys matched successfully>"
            ]
          },
          "execution_count": 56,
          "metadata": {
            "tags": []
          },
          "output_type": "execute_result"
        }
      ],
      "source": [
        "# train the model\n",
        "model_scratch = train(5, loaders_scratch, model, optimizer_scratch, \n",
        "                      criterion_scratch, use_cuda, 'model_scratch.pt')\n",
        "\n",
        "# load the model that got the best validation accuracy\n",
        "model_scratch.load_state_dict(torch.load('model_scratch.pt'))"
      ]
    },
    {
      "cell_type": "code",
      "execution_count": null,
      "metadata": {
        "colab": {},
        "colab_type": "code",
        "id": "3yc6paLKDCLU"
      },
      "outputs": [],
      "source": [
        "plt.plot(train_loss, label='Training loss')\n",
        "plt.plot(valid_loss, label='Validation loss')\n",
        "plt.legend(frameon=False)"
      ]
    },
    {
      "cell_type": "code",
      "execution_count": null,
      "metadata": {
        "colab": {},
        "colab_type": "code",
        "id": "g9YV0BT1JlDS"
      },
      "outputs": [],
      "source": []
    }
  ],
  "metadata": {
    "colab": {
      "collapsed_sections": [],
      "name": "rsna_pneumonia_classification.ipynb",
      "provenance": [],
      "toc_visible": true
    },
    "kernelspec": {
      "display_name": "Python 3.8.12 ('yinuo')",
      "language": "python",
      "name": "python3"
    },
    "language_info": {
      "codemirror_mode": {
        "name": "ipython",
        "version": 3
      },
      "file_extension": ".py",
      "mimetype": "text/x-python",
      "name": "python",
      "nbconvert_exporter": "python",
      "pygments_lexer": "ipython3",
      "version": "3.8.13"
    },
    "vscode": {
      "interpreter": {
        "hash": "7d828b7a1d9401dea8c139d432d7717bee9793ef90595c801c3f715f9b7fb9b5"
      }
    }
  },
  "nbformat": 4,
  "nbformat_minor": 0
}
